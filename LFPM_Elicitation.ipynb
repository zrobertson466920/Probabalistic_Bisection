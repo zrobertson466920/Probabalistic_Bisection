{
  "nbformat": 4,
  "nbformat_minor": 0,
  "metadata": {
    "colab": {
      "name": "LFPM Elicitation.ipynb",
      "provenance": [],
      "collapsed_sections": []
    },
    "kernelspec": {
      "name": "python3",
      "display_name": "Python 3"
    },
    "language_info": {
      "name": "python"
    }
  },
  "cells": [
    {
      "cell_type": "code",
      "metadata": {
        "id": "qokXXtdNSbU9"
      },
      "source": [
        "import numpy as np\n",
        "import matplotlib.pyplot as plt\n",
        "import scipy.integrate as integrate\n",
        "import scipy.special as special"
      ],
      "execution_count": null,
      "outputs": []
    },
    {
      "cell_type": "code",
      "metadata": {
        "id": "gQ_wZrYqTPBC"
      },
      "source": [
        "# true metric\n",
        "p_star = (0.8,0.2)\n",
        "q_star = (0.3,0.1,0.3)\n",
        "\n",
        "def eta(x):\n",
        "  return 1/(1+np.exp(5*x))\n",
        "\n",
        "zeta = 0.5  # f_X /sim U(-1,1)\n",
        "\n",
        "# implementation of proposition 1\n",
        "# return a classifier with t\n",
        "def h_bar(t):\n",
        "  m11, m00 = np.cos(t), np.sin(t)\n",
        "  def hb(x):\n",
        "    if m11+m00 >= 0:\n",
        "      return int(eta(x)>=m00/(m11+m00))\n",
        "    else:\n",
        "      return int(eta(x)<=m00/(m11+m00))\n",
        "  return hb\n",
        "\n",
        "# confusion matrix, analytical solution\n",
        "def C11(t):  # P(Y=1, h=1)\n",
        "  m11,m00 = np.cos(t), np.sin(t)\n",
        "  x_prime = 0.\n",
        "  h = h_bar(t)\n",
        "  if m00 == 0:\n",
        "    x_prime = 1\n",
        "  elif (m00+m11)/m00-1 <= 0:\n",
        "    x_prime = -1\n",
        "  else:\n",
        "    x_prime = np.log(m11/m00)/5\n",
        "    if x_prime > 1:\n",
        "      x_prime = 1\n",
        "    elif x_prime < -1:\n",
        "      x_prime = -1\n",
        "  if m00+m11 >= 0:\n",
        "    return 0.5*(x_prime-0.2*np.log(1+np.exp(5*x_prime))+1+0.2*np.log(1+np.exp(-5))) # x-0.2ln(1+e^5x)\n",
        "  else:\n",
        "    return 0.5*(1-0.2*np.log(1+np.exp(5))-x_prime+0.2*np.log(1+np.exp(5*x_prime)))\n",
        "\n",
        "def C10(t):  # P(Y=0, h=1)\n",
        "  return 0.5-C11(t)\n",
        "\n",
        "def C01(t):  # P(Y=1, h=0)\n",
        "  return 0.5-C00(t)\n",
        "\n",
        "def C00(t):  # P(Y=0, h=0)\n",
        "  m11,m00 = np.cos(t), np.sin(t)\n",
        "  x_prime = 0\n",
        "  h = h_bar(t)\n",
        "  if m00 == 0:\n",
        "    x_prime = 1\n",
        "  elif (m00+m11)/m00-1 <= 0:\n",
        "    x_prime = -1\n",
        "  else:\n",
        "    x_prime = np.log(m11/m00)/5\n",
        "    if x_prime > 1:\n",
        "      x_prime = 1\n",
        "    elif x_prime < -1:\n",
        "      x_prime = -1\n",
        "  if m00+m11 >= 0:\n",
        "    return 0.5*(0.2*np.log(1+np.exp(5))-0.2*np.log(1+np.exp(5*x_prime)))  # ln(1+e^5x)\n",
        "  else:\n",
        "    return 0.5*(0.2*np.log(1+np.exp(5*x_prime))-0.2*np.log(1+np.exp(-5)))\n",
        "\n",
        "# metric evaluation\n",
        "def phi(t):\n",
        "  return (p_star[0]*C11(t)+p_star[1]*C00(t))/(q_star[0]*C11(t)+q_star[1]*C00(t)+q_star[2])\n",
        "\n",
        "# query function (always maximize phi function)\n",
        "# alpha: error rate —— with probability alpha, the oracle will return wrong answer\n",
        "def query(t_1, t_2, alpha):\n",
        "  if phi(t_1) < phi(t_2):\n",
        "    if np.random.rand() > alpha:\n",
        "      return 1  # prefer t2\n",
        "    else:\n",
        "      return 0\n",
        "  else:\n",
        "    if np.random.rand() > alpha:\n",
        "      return 0  # prefer t1\n",
        "    else:\n",
        "      return 1"
      ],
      "execution_count": null,
      "outputs": []
    },
    {
      "cell_type": "markdown",
      "metadata": {
        "id": "x-t-q_QuMZ9r"
      },
      "source": [
        "# Algorithm 1"
      ]
    },
    {
      "cell_type": "code",
      "metadata": {
        "id": "44ei2YcaMY77"
      },
      "source": [
        "# implements algorithm 1\n",
        "# analytical version\n",
        "# alpha: error rate of oracle\n",
        "def max_quasiconcave_metric(eps, alpha):\n",
        "  t_a = 0\n",
        "  t_b = np.pi/2\n",
        "  m_bar = np.zeros(2)\n",
        "  C_bar = 0\n",
        "  iter = 0\n",
        "  while np.linalg.norm(t_a-t_b) > eps:\n",
        "    # divide the searching range into equally seperated intervals\n",
        "    t_c = (3*t_a+t_b)/4\n",
        "    t_d = (t_a+t_b)/2\n",
        "    t_e = (t_a+3*t_b)/4\n",
        "    # compute Confusion Matrices\n",
        "    C_a = np.array([[C00(t_a), C01(t_a)],[C10(t_a), C11(t_a)]])\n",
        "    C_b = np.array([[C00(t_b), C01(t_b)],[C10(t_b), C11(t_b)]])\n",
        "    C_c = np.array([[C00(t_c), C01(t_c)],[C10(t_c), C11(t_c)]])\n",
        "    C_d = np.array([[C00(t_d), C01(t_d)],[C10(t_d), C11(t_d)]])\n",
        "    C_e = np.array([[C00(t_e), C01(t_e)],[C10(t_e), C11(t_e)]])\n",
        "    # pairwise comparisons\n",
        "    ca = query(t_c, t_a, alpha)\n",
        "    dc = query(t_d, t_c, alpha)\n",
        "    ed = query(t_e, t_d, alpha)\n",
        "    be = query(t_b, t_e, alpha)\n",
        "    # determine the next iter search range based on oracle resposne to query\n",
        "    if ca:\n",
        "      t_b = t_d\n",
        "    elif not ca and dc:\n",
        "      t_b = t_d\n",
        "    elif not dc and ed:\n",
        "      t_a = t_c\n",
        "      t_b = t_e\n",
        "    elif not ed and be:\n",
        "      t_a = t_d\n",
        "    else:\n",
        "      t_a = t_d\n",
        "    m_bar[0], m_bar[1] = np.cos(t_d), np.sin(t_d)\n",
        "    C_bar = C_d\n",
        "    iter += 1\n",
        "  # print(\"iteration run:\"+str(iter))\n",
        "  return m_bar,C_bar"
      ],
      "execution_count": null,
      "outputs": []
    },
    {
      "cell_type": "markdown",
      "metadata": {
        "id": "rXS9CE4jMevA"
      },
      "source": [
        "# Algorithm 2"
      ]
    },
    {
      "cell_type": "code",
      "metadata": {
        "id": "T_6Ibc_vMg9_"
      },
      "source": [
        "# implements algorithm 1\n",
        "# analytical version\n",
        "# alpha: error rate of oracle\n",
        "def min_quasiconvex_metric(eps, alpha):\n",
        "  t_a = np.pi\n",
        "  t_b = np.pi*1.5\n",
        "  m_bar = np.zeros(2)\n",
        "  C_bar = 0\n",
        "  iter = 0\n",
        "  while np.linalg.norm(t_a-t_b) > eps:\n",
        "    # divide the searching range into equally seperated intervals\n",
        "    t_c = (3*t_a+t_b)/4\n",
        "    t_d = (t_a+t_b)/2\n",
        "    t_e = (t_a+3*t_b)/4\n",
        "    # compute Confusion Matrices\n",
        "    C_a = np.array([[C00(t_a), C01(t_a)],[C10(t_a), C11(t_a)]])\n",
        "    C_b = np.array([[C00(t_b), C01(t_b)],[C10(t_b), C11(t_b)]])\n",
        "    C_c = np.array([[C00(t_c), C01(t_c)],[C10(t_c), C11(t_c)]])\n",
        "    C_d = np.array([[C00(t_d), C01(t_d)],[C10(t_d), C11(t_d)]])\n",
        "    C_e = np.array([[C00(t_e), C01(t_e)],[C10(t_e), C11(t_e)]])\n",
        "    # pairwise comparisons\n",
        "    ca = query(t_a, t_c, alpha)\n",
        "    dc = query(t_c, t_d, alpha)\n",
        "    ed = query(t_d, t_e, alpha)\n",
        "    be = query(t_e, t_b, alpha)\n",
        "    # determine the next iter search range based on oracle resposne to query\n",
        "    if ca:\n",
        "      t_b = t_d\n",
        "    elif not ca and dc:\n",
        "      t_b = t_d\n",
        "    elif not dc and ed:\n",
        "      t_a = t_c\n",
        "      t_b = t_e\n",
        "    elif not ed and be:\n",
        "      t_a = t_d\n",
        "    else:\n",
        "      t_a = t_d\n",
        "    m_bar[0], m_bar[1] = np.cos(t_d), np.sin(t_d)\n",
        "    C_bar = C_d\n",
        "    iter += 1\n",
        "  # print(\"iteration run:\"+str(iter))\n",
        "  return m_bar,C_bar"
      ],
      "execution_count": null,
      "outputs": []
    },
    {
      "cell_type": "code",
      "metadata": {
        "colab": {
          "base_uri": "https://localhost:8080/"
        },
        "id": "QdTJKjYKkh4y",
        "outputId": "f6a8c104-3663-4b63-db47-9215ce6c5547"
      },
      "source": [
        "m,C = max_quasiconcave_metric(1e-4, 0.)\n",
        "print(\"elicited metric: \"+str(m))\n",
        "print(\"confusion matrix: \\n\"+str(C))"
      ],
      "execution_count": null,
      "outputs": [
        {
          "output_type": "stream",
          "text": [
            "elicited metric: [0.97976212 0.20016539]\n",
            "confusion matrix: \n",
            "[[0.3232651  0.1767349 ]\n",
            " [0.01791831 0.48208169]]\n"
          ],
          "name": "stdout"
        }
      ]
    },
    {
      "cell_type": "code",
      "metadata": {
        "colab": {
          "base_uri": "https://localhost:8080/"
        },
        "id": "rVYHFE4ski2D",
        "outputId": "b33a11c2-477b-4013-e647-2d686df33147"
      },
      "source": [
        "m,C = min_quasiconcex_metric(1e-4, 0.)\n",
        "print(\"elicited metric: \"+str(m))\n",
        "print(\"confusion matrix: \\n\"+str(C))"
      ],
      "execution_count": null,
      "outputs": [
        {
          "output_type": "stream",
          "text": [
            "elicited metric: [-0.97129901 -0.23786179]\n",
            "confusion matrix: \n",
            "[[0.16192767 0.33807233]\n",
            " [0.47876679 0.02123321]]\n"
          ],
          "name": "stdout"
        }
      ]
    },
    {
      "cell_type": "markdown",
      "metadata": {
        "id": "TSUbTDHZtMgi"
      },
      "source": [
        "# Algorithm 3"
      ]
    },
    {
      "cell_type": "code",
      "metadata": {
        "id": "p7tk6hZ5kpnC"
      },
      "source": [
        "def grid_search_for_p(m11, m00, C0, m11_, m00_, C0_, k, delta):\n",
        "  sig_opt = np.inf\n",
        "  p11_opt = 0\n",
        "  kt = np.linspace(0, np.pi/2, k//2)+np.linspace(np.pi, np.pi*1.5, k//2)\n",
        "  for p11 in np.arange(0, 1+delta, delta):\n",
        "    p00 = 1-p11\n",
        "    P = p11*zeta+p00*(1-zeta)\n",
        "    Qp = P+C0-m11*zeta-m00*(1-zeta)\n",
        "    q0p = C0*P/Qp\n",
        "    q11p = (p11-m11)*P/Qp\n",
        "    q00p = (p00-m00)*P/Qp\n",
        "    Qpp = P+C0_-m11_*zeta-m00_*(1-zeta)\n",
        "    q0pp = C0_*P/Qpp\n",
        "    q11pp = (p11-m11_)*P/Qpp\n",
        "    q00pp = (p00-m00_)*P/Qpp\n",
        "    phip = (p11*np.array(list(map(C11, kt)))+p00*np.array(list(map(C00, kt))))/(q11p*np.array(list(map(C11, kt)))+q00p*np.array(list(map(C00, kt)))+q0p)\n",
        "    phipp = (p11*np.array(list(map(C11, kt)))+p00*np.array(list(map(C00, kt))))/(q11pp*np.array(list(map(C11, kt)))+q00pp*np.array(list(map(C00, kt)))+q0pp)\n",
        "    r = phip/phipp\n",
        "    sig = np.std(r)\n",
        "    if sig<sig_opt:\n",
        "      sig_opt = sig\n",
        "      p11_opt = p11\n",
        "  return p11_opt"
      ],
      "execution_count": null,
      "outputs": []
    },
    {
      "cell_type": "code",
      "metadata": {
        "colab": {
          "base_uri": "https://localhost:8080/"
        },
        "id": "6-HxY5uHElxB",
        "outputId": "03b7fafa-5f52-46e1-c586-d68821ef6dc8"
      },
      "source": [
        "ma,Ca = max_quasiconcave_metric(1e-4, 0.)\n",
        "t = np.arccos(ma[0])\n",
        "if t > np.pi/2:\n",
        "    t = np.pi*2-t\n",
        "C0 = phi(t)\n",
        "mi,Ci = min_quasiconvex_metric(1e-4, 0.)\n",
        "t = np.arccos(mi[0])\n",
        "if t > np.pi/2:\n",
        "    t = np.pi*2-t\n",
        "C0_ = phi(t)\n",
        "p11 = grid_search_for_p(m11=ma[0], m00=ma[1], C0=C0, m11_=mi[0], m00_=mi[1], C0_=C0_, k=2000, delta=0.01)\n",
        "p00 = 1-p11\n",
        "P = p11*zeta+p00*(1-zeta)\n",
        "Q = P+C0-ma[0]*zeta-ma[1]*(1-zeta)\n",
        "q0 = C0*P/Q\n",
        "q11 = (p11-ma[0])*P/Q\n",
        "q00 = (p00-ma[1])*P/Q\n",
        "print((p11,p00)+(q11,q00,q0))"
      ],
      "execution_count": null,
      "outputs": [
        {
          "output_type": "stream",
          "text": [
            "/usr/local/lib/python3.7/dist-packages/ipykernel_launcher.py:18: RuntimeWarning: invalid value encountered in true_divide\n"
          ],
          "name": "stderr"
        },
        {
          "output_type": "stream",
          "text": [
            "(0.77, 0.22999999999999998, -0.12278324212891577, 0.017463543390885097, 0.5526598493690152)\n"
          ],
          "name": "stdout"
        }
      ]
    },
    {
      "cell_type": "code",
      "metadata": {
        "colab": {
          "base_uri": "https://localhost:8080/"
        },
        "id": "-V9OdPbCJ8rh",
        "outputId": "4685ce39-51af-41c9-baf2-88c7771b1634"
      },
      "source": [
        "p00 = 1-p11\n",
        "P = p11*zeta+p00*(1-zeta)\n",
        "Q = P+C0_-mi[0]*zeta-mi[1]*(1-zeta)\n",
        "q0 = C0_*P/Q\n",
        "q11 = (p11-mi[0])*P/Q\n",
        "q00 = (p00-mi[1])*P/Q\n",
        "print((p11,p00)+(q11,q00,q0))"
      ],
      "execution_count": 86,
      "outputs": [
        {
          "output_type": "stream",
          "text": [
            "(0.77, 0.22999999999999998, 0.69228700173688, 0.18600747856042157, 0.060852759851349185)\n"
          ],
          "name": "stdout"
        }
      ]
    },
    {
      "cell_type": "code",
      "metadata": {
        "colab": {
          "base_uri": "https://localhost:8080/"
        },
        "id": "B-0RAa-cQ0Gy",
        "outputId": "d9df4263-8172-4340-9769-e16a7494ba90"
      },
      "source": [
        "p11 = 0.77\n",
        "p00 = 1-p11\n",
        "P = p11*zeta+p00*(1-zeta)\n",
        "Q = P+C0-ma[0]*zeta-ma[1]*(1-zeta)\n",
        "q0 = C0*P/Q\n",
        "q11 = (p11-ma[0])*P/Q\n",
        "q00 = (p00-ma[1])*P/Q\n",
        "print((p11,p00)+(q11,q00,q0))"
      ],
      "execution_count": 87,
      "outputs": [
        {
          "output_type": "stream",
          "text": [
            "(0.77, 0.22999999999999998, -0.12278324212891577, 0.017463543390885097, 0.5526598493690152)\n"
          ],
          "name": "stdout"
        }
      ]
    },
    {
      "cell_type": "markdown",
      "metadata": {
        "id": "SJHZVHzjWh47"
      },
      "source": [
        "# Visualize $\\phi$"
      ]
    },
    {
      "cell_type": "code",
      "metadata": {
        "colab": {
          "base_uri": "https://localhost:8080/",
          "height": 365
        },
        "id": "33rP3AXHTjjH",
        "outputId": "811b6585-7b2c-4a7b-c87f-c190d92c8347"
      },
      "source": [
        "# Plot phi function versus different thetas\n",
        "def phi_elicited(t):\n",
        "  return (p11*C11(t)+p00*C00(t))/(q11*C11(t)+q00*C00(t)+q0)\n",
        "\n",
        "thetas = np.linspace(0,np.pi*2,200)\n",
        "ph_true = list(map(phi, thetas))\n",
        "ph_elicited = list(map(phi_elicited, np.linspace(0,np.pi*2,200)))\n",
        "\n",
        "plt.figure(figsize=(16,5))\n",
        "plt.plot(thetas, ph_true, \"-\", color='b')\n",
        "plt.plot(thetas, ph_elicited, \"--\", color='g')\n",
        "\n",
        "for p in np.arange(0.5, 1.5, 0.5):\n",
        "  plt.axvline(x=np.pi*p, c='r', ls='--', alpha=0.7)\n",
        "\n",
        "plt.axvline(x=thetas[np.argmax(ph_true)], c='b')\n",
        "plt.axvline(x=thetas[np.argmax(ph_elicited)], c='g')\n",
        "\n",
        "plt.xticks(np.arange(0, np.pi*1.5, np.pi/36), rotation=60, size=\"small\")\n",
        "plt.title(\"phi change with theta\")\n",
        "plt.xlabel(\"theta/radian\")\n",
        "plt.ylabel(\"phi\")\n",
        "plt.show()"
      ],
      "execution_count": 88,
      "outputs": [
        {
          "output_type": "display_data",
          "data": {
            "image/png": "[encoded data removed]",
            "text/plain": [
              "<Figure size 1152x360 with 1 Axes>"
            ]
          },
          "metadata": {
            "tags": [],
            "needs_background": "light"
          }
        }
      ]
    },
    {
      "cell_type": "code",
      "metadata": {
        "id": "0kSCxuH2UCzT"
      },
      "source": [
        ""
      ],
      "execution_count": null,
      "outputs": []
    }
  ]
}