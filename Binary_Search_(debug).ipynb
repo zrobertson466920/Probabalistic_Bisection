{
  "nbformat": 4,
  "nbformat_minor": 0,
  "metadata": {
    "colab": {
      "name": "Binary Search (debug).ipynb",
      "provenance": [],
      "collapsed_sections": []
    },
    "kernelspec": {
      "name": "python3",
      "display_name": "Python 3"
    },
    "language_info": {
      "name": "python"
    }
  },
  "cells": [
    {
      "cell_type": "code",
      "metadata": {
        "id": "xpY10blpIwQo"
      },
      "source": [
        "import numpy as np\n",
        "import matplotlib.pyplot as plt\n",
        "import scipy.integrate as integrate\n",
        "import scipy.special as special"
      ],
      "execution_count": null,
      "outputs": []
    },
    {
      "cell_type": "code",
      "metadata": {
        "colab": {
          "base_uri": "https://localhost:8080/"
        },
        "id": "DpFLw2OaIxwv",
        "outputId": "7c439902-e00c-4a8f-d48d-e57b4a97f196"
      },
      "source": [
        "# true metric\n",
        "m_star = (-0.94,-0.34) #200 degree\n",
        "# m_star = (0.98,0.17) #11.47 degree\n",
        "\n",
        "m_star = m_star/np.linalg.norm(m_star)  # normalize\n",
        "# obtain true theta\n",
        "t_true = np.arccos(m_star[0])\n",
        "if t_true > np.pi/2:  # make sure theta either in [0, pi/2] or [pi, 3/2*pi]\n",
        "    t_true = np.pi*2-t_true\n",
        "\n",
        "print(t_true)\n",
        "\n",
        "def eta(x):\n",
        "  return 1/(1+np.exp(5*x))\n",
        "\n",
        "zeta = 0.5  # f_X /sim U(-1,1)\n",
        "\n",
        "# implementation of proposition 1\n",
        "# return a classifier with t\n",
        "def h_bar(t):\n",
        "  m11, m00 = np.cos(t), np.sin(t)\n",
        "  def hb(x):\n",
        "    if m11+m00 >= 0:\n",
        "      return int(eta(x)>=m00/(m11+m00))\n",
        "    else:\n",
        "      return int(eta(x)<=m00/(m11+m00))\n",
        "  return hb\n",
        "\n",
        "# confusion matrix, analytical solution\n",
        "def C11(t):  # P(Y=1, h=1)\n",
        "  m11,m00 = np.cos(t), np.sin(t)\n",
        "  x_prime = 0.\n",
        "  h = h_bar(t)\n",
        "  if m00 == 0:\n",
        "    x_prime = 1\n",
        "  elif (m00+m11)/m00-1 <= 0:\n",
        "    x_prime = -1\n",
        "  else:\n",
        "    x_prime = np.log(m11/m00)/5\n",
        "    if x_prime > 1:\n",
        "      x_prime = 1\n",
        "    elif x_prime < -1:\n",
        "      x_prime = -1\n",
        "  if m00+m11 >= 0:\n",
        "    return 0.5*(x_prime-0.2*np.log(1+np.exp(5*x_prime))+1+0.2*np.log(1+np.exp(-5))) # x-0.2ln(1+e^5x)\n",
        "  else:\n",
        "    return 0.5*(1-0.2*np.log(1+np.exp(5))-x_prime+0.2*np.log(1+np.exp(5*x_prime)))\n",
        "\n",
        "def C10(t):  # P(Y=0, h=1)\n",
        "  return 0.5-C11(t)\n",
        "\n",
        "def C01(t):  # P(Y=1, h=0)\n",
        "  return 0.5-C00(t)\n",
        "\n",
        "def C00(t):  # P(Y=0, h=0)\n",
        "  m11,m00 = np.cos(t), np.sin(t)\n",
        "  x_prime = 0\n",
        "  h = h_bar(t)\n",
        "  if m00 == 0:\n",
        "    x_prime = 1\n",
        "  elif (m00+m11)/m00-1 <= 0:\n",
        "    x_prime = -1\n",
        "  else:\n",
        "    x_prime = np.log(m11/m00)/5\n",
        "    if x_prime > 1:\n",
        "      x_prime = 1\n",
        "    elif x_prime < -1:\n",
        "      x_prime = -1\n",
        "  if m00+m11 >= 0:\n",
        "    return 0.5*(0.2*np.log(1+np.exp(5))-0.2*np.log(1+np.exp(5*x_prime)))  # ln(1+e^5x)\n",
        "  else:\n",
        "    return 0.5*(0.2*np.log(1+np.exp(5*x_prime))-0.2*np.log(1+np.exp(-5)))\n",
        "\n",
        "# metric evaluation\n",
        "def phi(t):\n",
        "  m11, m00 = np.cos(t_true), np.sin(t_true)\n",
        "  return m11*C11(t)+m00*C00(t)\n",
        "\n",
        "# query function\n",
        "def query(t_1, t_2, alpha):\n",
        "  # if abs(phi(t_1)-phi2(m_star[0], m_star[1])) > abs(phi(t_2)-phi2(m_star[0], m_star[1])):\n",
        "  if phi(t_1) < phi(t_2):\n",
        "    return 1  # prefer t2\n",
        "  else:\n",
        "    return 0  # prefer t1\n",
        "\n",
        "# implements algorithm 1\n",
        "# analytical version\n",
        "# alpha: error rate of oracle\n",
        "def max_quasiconcave_metric(eps, alpha):\n",
        "  t_a = np.pi\n",
        "  t_b = np.pi*1.5\n",
        "  m_bar = np.zeros(2)\n",
        "  C_bar = 0\n",
        "  iter = 0\n",
        "  while np.linalg.norm(t_a-t_b) > eps:\n",
        "    t_c = (3*t_a+t_b)/4\n",
        "    t_d = (t_a+t_b)/2\n",
        "    t_e = (t_a+3*t_b)/4\n",
        "    C_a = np.array([[C00(t_a), C01(t_a)],[C10(t_a), C11(t_a)]])\n",
        "    C_b = np.array([[C00(t_b), C01(t_b)],[C10(t_b), C11(t_b)]])\n",
        "    C_c = np.array([[C00(t_c), C01(t_c)],[C10(t_c), C11(t_c)]])\n",
        "    C_d = np.array([[C00(t_d), C01(t_d)],[C10(t_d), C11(t_d)]])\n",
        "    C_e = np.array([[C00(t_e), C01(t_e)],[C10(t_e), C11(t_e)]])\n",
        "    ca = query(t_c, t_a, alpha)\n",
        "    dc = query(t_d, t_c, alpha)\n",
        "    ed = query(t_e, t_d, alpha)\n",
        "    be = query(t_b, t_e, alpha)\n",
        "    if ca:\n",
        "      t_b = t_d\n",
        "    elif not ca and dc:\n",
        "      t_b = t_d\n",
        "    elif not dc and ed:\n",
        "      t_a = t_c\n",
        "      t_b = t_e\n",
        "    elif not ed and be:\n",
        "      t_a = t_d\n",
        "    else:\n",
        "      t_a = t_d\n",
        "    m_bar[0], m_bar[1] = np.cos(t_d), np.sin(t_d)\n",
        "    C_bar = C_d\n",
        "    iter += 1\n",
        "  # print(\"iteration run:\"+str(iter))\n",
        "  return m_bar,C_bar"
      ],
      "execution_count": null,
      "outputs": [
        {
          "output_type": "stream",
          "text": [
            "3.4886542571292836\n"
          ],
          "name": "stdout"
        }
      ]
    },
    {
      "cell_type": "code",
      "metadata": {
        "colab": {
          "base_uri": "https://localhost:8080/"
        },
        "id": "47M9Z1xyJ8Vf",
        "outputId": "2d381e7d-c710-4a3b-cad5-80086466b263"
      },
      "source": [
        "m,C = max_quasiconcave_metric(1e-4, 0.)\n",
        "print(\"true metric: \"+str(m_star))\n",
        "print(\"elicited metric: \"+str(m))\n",
        "print(\"confusion matrix: \\n\"+str(C))"
      ],
      "execution_count": null,
      "outputs": [
        {
          "output_type": "stream",
          "text": [
            "true metric: [-0.94037623 -0.34013608]\n",
            "elicited metric: [-0.9403757  -0.34013754]\n",
            "confusion matrix: \n",
            "[[0.13189508 0.36810492]\n",
            " [0.46979786 0.03020214]]\n"
          ],
          "name": "stdout"
        }
      ]
    },
    {
      "cell_type": "code",
      "metadata": {
        "colab": {
          "base_uri": "https://localhost:8080/",
          "height": 365
        },
        "id": "aQD5zFDXKBJK",
        "outputId": "89ec910e-6128-49f6-bd84-d9bf674b037b"
      },
      "source": [
        "# Plot phi function versus different thetas\n",
        "ph = []\n",
        "for i in np.arange(0, np.pi*1.5, np.pi/36):\n",
        "  ph.append(phi(i))\n",
        "\n",
        "plt.figure(figsize=(16,5))\n",
        "plt.plot(np.arange(0, np.pi*1.5, np.pi/36), ph, \"-\")\n",
        "for p in np.arange(0.5, 1.5, 0.5):\n",
        "  plt.axvline(x=np.pi*p, c='r', ls='--', alpha=0.7)\n",
        "plt.axvline(x=t_true, c='g')\n",
        "t_elicited = np.arccos(m[0])\n",
        "if t_elicited > np.pi/2:  # make sure theta either in [0, pi/2] or [pi, 3/2*pi]\n",
        "    t_elicited = np.pi*2-t_elicited\n",
        "plt.axvline(x=t_elicited, c='b')\n",
        "# plt.axvline(x=np.arccos(np.pi/4), c='black')\n",
        "plt.xticks(np.arange(0, np.pi*1.5, np.pi/36), rotation=60, size=\"small\")\n",
        "plt.title(\"phi change with theta\")\n",
        "plt.xlabel(\"theta/radian\")\n",
        "plt.ylabel(\"phi\")\n",
        "plt.show()"
      ],
      "execution_count": null,
      "outputs": [
        {
          "output_type": "display_data",
          "data": {
            "image/png": "[encoded data removed]",
            "text/plain": [
              "<Figure size 1152x360 with 1 Axes>"
            ]
          },
          "metadata": {
            "tags": [],
            "needs_background": "light"
          }
        }
      ]
    },
    {
      "cell_type": "code",
      "metadata": {
        "colab": {
          "base_uri": "https://localhost:8080/"
        },
        "id": "fbYldQBjKKFv",
        "outputId": "79b82b48-f4b8-451e-fa4f-58d2f88f7e60"
      },
      "source": [
        "C11(np.arccos(m_star[0]))"
      ],
      "execution_count": null,
      "outputs": [
        {
          "output_type": "execute_result",
          "data": {
            "text/plain": [
              "0.484675069879644"
            ]
          },
          "metadata": {
            "tags": []
          },
          "execution_count": 32
        }
      ]
    },
    {
      "cell_type": "code",
      "metadata": {
        "id": "4xYyZGjbLas5"
      },
      "source": [
        "C11(np.arccos(m_star[0]))\n",
        "h = h_bar(np.arccos(m_star[0]))"
      ],
      "execution_count": null,
      "outputs": []
    },
    {
      "cell_type": "code",
      "metadata": {
        "id": "qcPolDyPOUEP"
      },
      "source": [
        ""
      ],
      "execution_count": null,
      "outputs": []
    }
  ]
}