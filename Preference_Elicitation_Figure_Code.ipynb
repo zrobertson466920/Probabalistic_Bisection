{
 "cells": [
  {
   "cell_type": "code",
   "execution_count": 2,
   "metadata": {},
   "outputs": [],
   "source": [
    "import numpy as np\n",
    "import matplotlib.pyplot as plt\n",
    "import random"
   ]
  },
  {
   "cell_type": "markdown",
   "metadata": {},
   "source": [
    "Skip to Main Figures header to reproduce plots in paper.\n",
    "\n",
    "The basic form of our problem is that an individual has a preference for a threshold value in the unit-interval, but we can only solicit the direction of the optimum relative to a comparison threshold. In practice, to solicit this direction we compare the values $\\lambda \\pm \\epsilon_0$. However, the closer the more likely our comparison will return the wrong result. \n",
    "\n",
    "**Theorem:** Say we have an oracle that given $\\lambda \\in [0,1]$ points in the direction of $\\lambda_0$. The Bayesian update for the location of $\\lambda_0$ given a collection of oracle queries is a simple function.\n",
    "\n",
    "**Proof:** We have,\n",
    "$$\n",
    "P(\\text{Optimum is at } \\lambda_0 | \\text{Right Preference at } \\lambda) $$ $$ = \\cfrac{P(\\text{Right Preference at } \\lambda | \\text{Optimum is at } \\lambda_0) \\cdot P(\\text{Optimum is at } \\lambda_0)}{\\sum_i P(\\text{Preference}_i \\text{ at } \\lambda | \\text{Optimum is at } \\lambda_0)} $$ $$\n",
    "\\Rightarrow P_{n+1}(\\text{Optimum is at } \\lambda_0)= \\begin{cases} \\cfrac{\\alpha}{N} P_n(\\text{Optimum is at } \\lambda_0) \\ \\lambda > \\lambda_0 \\\\\n",
    "\\cfrac{1-\\alpha}{N} P_n(\\text{Optimum is at } \\lambda_0) \\text{ otherwise} \\end{cases}\n",
    "$$\n",
    "Since $P_0 = 1$ then $P_1$ is a simple function. Assume for $k = n$ we have that $P_k$ is a simple function. From the above, if $P_k$ is a smple function we see $P_{k+1}$ is a simple function. By induction, $P_n$ for all $n$ is a simple function.\n",
    "\n",
    "This will guide the creation of our basic data-type for individual preferences since this we now know these will be a simple-function of the queries."
   ]
  },
  {
   "cell_type": "code",
   "execution_count": 133,
   "metadata": {},
   "outputs": [],
   "source": [
    "class Simple_Dist:\n",
    "    \n",
    "    # param = [(points,values)]\n",
    "    # constructed left-to-right on [0,1]\n",
    "    def __init__(self, init, end= 1):\n",
    "        self.param = init\n",
    "        self.end = end\n",
    "        \n",
    "    def display(self):\n",
    "        points = []\n",
    "        a_param = self.param + [(1,self.param[-1][1])]\n",
    "        for i, v in enumerate(a_param[:-1]):\n",
    "            points.append(v)\n",
    "            points.append((a_param[i+1][0],v[1]))\n",
    "        x,y = zip(*points)\n",
    "        plt.plot(x,y)\n",
    "        plt.title(\"Median Density\")\n",
    "        plt.ylabel(\"Density\")\n",
    "        plt.xlabel(\"Value\")\n",
    "        plt.show()\n",
    "    \n",
    "    def cdf(self,threshold):\n",
    "        basis = []\n",
    "        val = []\n",
    "        a_param = self.param + [(self.end,self.param[-1][1])]\n",
    "        for i, v in enumerate(a_param):\n",
    "            if v[0] < threshold:\n",
    "                basis.append(v[0])\n",
    "                val.append(v[1])\n",
    "            else:\n",
    "                basis.append(threshold)\n",
    "                cdf = 0\n",
    "                for i, d in enumerate(val):\n",
    "                    cdf += d*(basis[i+1]-basis[i])\n",
    "                return cdf\n",
    "            \n",
    "    def invcdf(self, prob):\n",
    "        a_param = self.param + [(self.end,self.param[-1][1])]\n",
    "        cdf = 0\n",
    "        for i, v in enumerate(a_param[:-1]):\n",
    "            if cdf+v[1]*(a_param[i+1][0]-a_param[i][0])>prob:\n",
    "                exceed = cdf+v[1]*(a_param[i+1][0]-a_param[i][0])-prob\n",
    "                return a_param[i+1][0]-exceed/v[1]\n",
    "            else:\n",
    "                cdf += v[1]*(a_param[i+1][0]-a_param[i][0])\n",
    "    \n",
    "    def median(self):\n",
    "        return self.invcdf(0.5)\n",
    "  \n",
    "    # Vote indicates for direction\n",
    "    def update_dist(self, threshold, vote, alpha = 0.1, beta = 0.0):\n",
    "        \n",
    "        if beta == 0.0:\n",
    "            beta = (2-alpha)/3\n",
    "        \n",
    "        # Insert new data\n",
    "        index = next(i for i,v in enumerate(self.param+[(1,self.param[-1][1])]) if threshold < v[0])\n",
    "        if index < len(self.param) and self.param[index][0] != threshold:\n",
    "            self.param.insert(index,(threshold,self.param[index-1][1]))\n",
    "        elif index >= len(self.param):\n",
    "            self.param.insert(index,(threshold,self.param[index-1][1]))\n",
    "            \n",
    "        # Modify distribution\n",
    "        if vote == -1:\n",
    "            r_mass = 1 - self.cdf(threshold)\n",
    "            for i, v in enumerate(self.param):\n",
    "                if v[0] < threshold:\n",
    "                    self.param[i] = (v[0],v[1] * (1 - alpha))\n",
    "                else:\n",
    "                    self.param[i] = (v[0],v[1] * alpha)\n",
    "            norm = self.cdf(1)\n",
    "            for i, v in enumerate(self.param):\n",
    "                self.param[i] = (v[0], v[1]/norm)\n",
    "        else:\n",
    "            l_mass = self.cdf(threshold)\n",
    "            for i, v in enumerate(self.param):\n",
    "                if v[0] >= threshold:\n",
    "                    self.param[i] = (v[0],v[1] * (1 - alpha))\n",
    "                else:\n",
    "                    self.param[i] = (v[0],v[1] * alpha)\n",
    "            norm = self.cdf(1)\n",
    "            for i, v in enumerate(self.param):\n",
    "                self.param[i] = (v[0], v[1]/norm)"
   ]
  },
  {
   "cell_type": "code",
   "execution_count": 142,
   "metadata": {},
   "outputs": [],
   "source": [
    "def pba(iteration, alpha, opt, alpha_t = 0):\n",
    "    if alpha_t == 0:\n",
    "        alpha_t = alpha\n",
    "    dist = Simple_Dist([(0,np.pi/2)],np.pi/2)\n",
    "#     dist.update_dist(0.5,1, alpha = alpha)\n",
    "    query = np.random.rand(2)\n",
    "    func = lambda x : x*(1-x)\n",
    "    run= []\n",
    "    for i in range(iteration):\n",
    "        if query[0] < opt:\n",
    "            if query[1] > alpha:\n",
    "                dist.update_dist(query[0],1, alpha = alpha_t)\n",
    "            else:\n",
    "                dist.update_dist(query[0],-1, alpha = alpha_t)\n",
    "        else:\n",
    "            if query[1] > alpha:\n",
    "                dist.update_dist(query[0],-1, alpha = alpha_t)\n",
    "            else:\n",
    "                dist.update_dist(query[0],1, alpha = alpha_t)\n",
    "        query = [dist.median(),np.random.rand()]\n",
    "        run.append(dist.median())\n",
    "    return np.array(run) , dist.median()\n",
    "\n",
    "def pta(num, alpha, t_phi, prior = None):\n",
    "    # Oracle at 0.3 with 0.1 error rate\n",
    "    # Random query strategy\n",
    "    if prior == None:\n",
    "        dist = Simple_Dist([(0,1),(0.5,1)])\n",
    "    else:\n",
    "        dist = prior\n",
    "    #dist.update_dist(0.5,1, alpha = alpha)\n",
    "    query = np.random.rand(num,2)\n",
    "    run = []\n",
    "    for i in range(num):\n",
    "        p1 = dist.invcdf(1/3)\n",
    "        p2 = dist.invcdf(2/3)\n",
    "        run.append(dist.median() * np.pi/2)\n",
    "        if t_phi(p1*np.pi/2) < t_phi(p2*np.pi/2):\n",
    "            if query[i][1] > alpha:\n",
    "                dist.update_dist(p1,1, alpha = alpha+0.01)\n",
    "            else:\n",
    "                dist.update_dist(p2,-1, alpha = alpha+0.01)\n",
    "        else:\n",
    "            if query[i][1] > alpha:\n",
    "                dist.update_dist(p2,-1, alpha = alpha+0.01)\n",
    "            else:\n",
    "                dist.update_dist(p1,1, alpha = alpha+0.01)\n",
    "    return np.array(run), dist.median()*np.pi/2"
   ]
  },
  {
   "cell_type": "markdown",
   "metadata": {},
   "source": [
    "We can perform some basic sanity checks by setting up setting up a few queries starting with a uniform distribution. Each query indicates a threshold and then is $+1$ if the optimum lays to the right and is $-1$ if the optimum lies to the left. Our $\\alpha$ parameter indicates the error rate of the queries. Also note that we are ignoring the $\\epsilon_0$ spacing that is needed to ensure $\\alpha < 1/2$. "
   ]
  },
  {
   "cell_type": "code",
   "execution_count": 5,
   "metadata": {},
   "outputs": [
    {
     "data": {
      "image/png": "[encoded data removed]",
      "text/plain": [
       "<Figure size 432x288 with 1 Axes>"
      ]
     },
     "metadata": {
      "needs_background": "light"
     },
     "output_type": "display_data"
    },
    {
     "data": {
      "image/png": "[encoded data removed]",
      "text/plain": [
       "<Figure size 432x288 with 1 Axes>"
      ]
     },
     "metadata": {
      "needs_background": "light"
     },
     "output_type": "display_data"
    }
   ],
   "source": [
    "# Basic Demo\n",
    "alpha = 0.0\n",
    "dist = Simple_Dist([(0,1)])\n",
    "dist.display()\n",
    "plt.show()\n",
    "dist.update_dist(dist.median(),1, alpha = alpha)\n",
    "dist.display()\n",
    "plt.show()"
   ]
  },
  {
   "cell_type": "markdown",
   "metadata": {},
   "source": [
    "We can randomly sample queries and see how the distribution evolves over time. In expectation, each threshold on the line either gains or loses probability at each round. Using the law of large numbers we can conclude that the threshold that loses the least evidence in each round is the optimum threshold. We can also extract a linear convergence rate. "
   ]
  },
  {
   "cell_type": "code",
   "execution_count": 6,
   "metadata": {},
   "outputs": [
    {
     "data": {
      "image/png": "[encoded data removed]",
      "text/plain": [
       "<Figure size 432x288 with 1 Axes>"
      ]
     },
     "metadata": {
      "needs_background": "light"
     },
     "output_type": "display_data"
    },
    {
     "name": "stdout",
     "output_type": "stream",
     "text": [
      "0.5307545389106497\n"
     ]
    }
   ],
   "source": [
    "# Oracle at 0.3 with 0.1 error rate\n",
    "# Random query strategy\n",
    "dist = Simple_Dist([(0,1)])\n",
    "dist.update_dist(0.5,1, alpha = alpha)\n",
    "opt = 0.3\n",
    "alpha = 0.1\n",
    "num = 20\n",
    "query = np.random.rand(num,2)\n",
    "func = lambda x : x*(1-x)\n",
    "for i in range(num):\n",
    "    if query[i][0] < opt:\n",
    "        if query[i][1] > alpha:\n",
    "            dist.update_dist(query[i][0],1, alpha = alpha)\n",
    "        else:\n",
    "            dist.update_dist(query[i][0],-1, alpha = alpha)\n",
    "    else:\n",
    "        if query[i][1] > alpha:\n",
    "            dist.update_dist(query[i][0],-1, alpha = alpha)\n",
    "        else:\n",
    "            dist.update_dist(query[i][0],1, alpha = alpha)\n",
    "dist.display()\n",
    "print(dist.median())"
   ]
  },
  {
   "cell_type": "markdown",
   "metadata": {},
   "source": [
    "Now we consider performance metric selection for binary classification. Suppose that we have a generative model,\n",
    "$$\\eta(x)  = p(y = 1 | x) = \\cfrac{1}{1+e^{5x}}$$\n",
    "If the performance metric is,\n",
    "$$\\mathcal{L}_{\\theta}(h) = \\cos(\\theta) \\text{TP}(h) + \\sin(\\theta) \\text{TN}(h)$$\n",
    "We can generate a Bayesian optimal classifier according to the rule,\n",
    "$$h(x) = \\mathbb{I} \\left(\\eta(x) \\ge \\frac{\\cos(\\theta)}{\\cos(\\theta) + \\sin(\\theta)} \\right)$$\n",
    "The following code introduces useful abstractions for computing quantities of interest such the confusion matrix, loss, and conditional class probability."
   ]
  },
  {
   "cell_type": "code",
   "execution_count": 159,
   "metadata": {},
   "outputs": [],
   "source": [
    "def eta(x):\n",
    "    return 1/(1+np.exp(5*x))\n",
    "\n",
    "# confusion matrix, analytical solution\n",
    "def C11(t):  # P(Y=1, h=1)\n",
    "  m11,m00 = np.cos(t), np.sin(t)\n",
    "  x_prime = 0.\n",
    "  h = h = lambda x: hb(x,t)\n",
    "  if m00 == 0:\n",
    "    x_prime = 1\n",
    "  elif m11/m00 <= 0:\n",
    "    x_prime = -1\n",
    "  else:\n",
    "    x_prime = np.log(m11/m00)/5\n",
    "    if x_prime > 1:\n",
    "      x_prime = 1\n",
    "    elif x_prime < -1:\n",
    "      x_prime = -1\n",
    "  if m00+m11 >= 0:\n",
    "    return (x_prime-0.2*np.log(1+np.exp(5*x_prime))+1+0.2*np.log(1+np.exp(-5))) # x-0.2ln(1+e^5x)\n",
    "  else:\n",
    "    return (1-0.2*np.log(1+np.exp(5))-x_prime+0.2*np.log(1+np.exp(5*x_prime)))\n",
    "\n",
    "def C10(t):  # P(Y=0, h=1)\n",
    "  return 1-C11(t)\n",
    "\n",
    "def C01(t):  # P(Y=1, h=0)\n",
    "  return 1-C00(t)\n",
    "\n",
    "def C00(t):  # P(Y=0, h=0)\n",
    "  m11,m00 = np.cos(t), np.sin(t)\n",
    "  x_prime = 0\n",
    "  h = lambda x: hb(x,t)\n",
    "  if m00 == 0:\n",
    "    x_prime = 1\n",
    "  elif (m00+m11)/m00-1 <= 0:\n",
    "    x_prime = -1\n",
    "  else:\n",
    "    x_prime = np.log(m11/m00)/5\n",
    "    if x_prime > 1:\n",
    "      x_prime = 1\n",
    "    elif x_prime < -1:\n",
    "      x_prime = -1\n",
    "  if m00+m11 >= 0:\n",
    "    return (0.2*np.log(1+np.exp(5))-0.2*np.log(1+np.exp(5*x_prime)))  # ln(1+e^5x)\n",
    "  else:\n",
    "    return (0.2*np.log(1+np.exp(5*x_prime))-0.2*np.log(1+np.exp(-5)))\n",
    "\n",
    "# metric evaluation\n",
    "def phi(t, t_true):\n",
    "  m11, m00 = np.cos(t_true), np.sin(t_true)\n",
    "  return m11*C11(t)+m00*C00(t)\n",
    "\n",
    "def test_phi(t,t_true):\n",
    "    return t*(np.pi/2-t)\n",
    "\n",
    "def gen_data(size,eta):\n",
    "    data = []\n",
    "    labels = [0,1]\n",
    "    for i in range(size):\n",
    "        x = 2*np.random.sample(1)[0]-1\n",
    "        data.append((x,np.random.choice(labels,size = 1, p = [1-eta(x),eta(x)])[0]))\n",
    "    return data\n",
    "\n",
    "def hb(x,theta):\n",
    "    m00, m11 = np.cos(theta), np.sin(theta)\n",
    "    if m11+m00 >= 0:\n",
    "      return int(eta(x)>=m00/(m11+m00))\n",
    "    else:\n",
    "      return int(eta(x)<=m00/(m11+m00))\n",
    "    \n",
    "def classify(theta,x):\n",
    "  return hb(x,theta)\n",
    "\n",
    "def f_phi(theta,t,classify,data):\n",
    "    TP = [0]\n",
    "    TN = [0]\n",
    "    for (x,y) in data:\n",
    "        if y == 0:\n",
    "            TP.append(1-classify(t,x))\n",
    "        if y == 1:\n",
    "            TN.append(classify(t,x))\n",
    "    return np.mean(TP)*np.cos(theta)+np.mean(TN)*np.sin(theta)"
   ]
  },
  {
   "cell_type": "markdown",
   "metadata": {},
   "source": [
    "Altering the code to do optimization of a hidden function is quite easy if we drop the assumption that updates will be Bayesian. All we need to do is perform a pair-wise on two points and then put mass pointing in the increasing direction. The reason the algorithm is no longer Bayesian is that there is no predetermined update when the optimum is inbetween the comparison points. For the below implementation we maintain and update 'trisections' defined at the third's of the posterior distribution's cdf. "
   ]
  },
  {
   "cell_type": "markdown",
   "metadata": {},
   "source": [
    "We also implement a baseline algorithm that uses deterministic bisection strategy based on oracle responses. "
   ]
  },
  {
   "cell_type": "code",
   "execution_count": 147,
   "metadata": {},
   "outputs": [],
   "source": [
    "def phi_query(t_1, t_2, alpha, t_phi, requery):\n",
    "    signal = 0\n",
    "    for i in range(requery):\n",
    "        if t_phi(t_1) < t_phi(t_2):\n",
    "            if np.random.rand() > alpha:\n",
    "              signal += 1  # prefer t2\n",
    "            else:\n",
    "              signal += -1\n",
    "        else:\n",
    "            if np.random.rand() > alpha:\n",
    "              signal += -1  # prefer t1\n",
    "            else:\n",
    "              signal += 1\n",
    "    return signal >= 0\n",
    "\n",
    "def root_query(t_1, t_2, alpha, requery = 1):\n",
    "    signal = 0\n",
    "    for i in range(requery):\n",
    "        if t_1 < t_2:\n",
    "            if np.random.rand() > alpha:\n",
    "                signal += 1  # prefer t2\n",
    "            else:\n",
    "                signal += -1\n",
    "        else:\n",
    "            if np.random.rand() > alpha:\n",
    "                signal += -1  # prefer t1\n",
    "            else:\n",
    "                signal += 1\n",
    "    return signal >= 0\n",
    "    \n",
    "# implements algorithm 1\n",
    "# analytical version\n",
    "# alpha: error rate of oracle\n",
    "def golden(iteration, alpha, t_phi, requery = 1):\n",
    "    query = lambda t_1, t_2, alpha : phi_query(t_1,t_2,alpha,t_phi, requery)\n",
    "    t_a = 0\n",
    "    t_b = np.pi/2\n",
    "    m_bar = np.zeros(2)\n",
    "    C_bar = 0\n",
    "    iter = 0\n",
    "    run = []\n",
    "    gr = (np.sqrt(5) + 1) / 2\n",
    "    t_c = t_b - (t_b - t_a) / gr\n",
    "    t_d = t_a + (t_b - t_a) / gr\n",
    "    while len(run) <= iteration:\n",
    "        \n",
    "        # pairwise comparisons\n",
    "        if not query(t_c, t_d, alpha):\n",
    "            t_b = t_d\n",
    "        else:\n",
    "            t_a = t_c\n",
    "        t_c = t_b - (t_b - t_a) / gr\n",
    "        t_d = t_a + (t_b - t_a) / gr\n",
    "        \n",
    "        m_bar[0], m_bar[1] = np.cos(t_d), np.sin(t_d)\n",
    "        iter += 1\n",
    "        run = run + requery*[t_d]\n",
    "        # print(\"iteration run:\"+str(iter))\n",
    "    return np.array(run[:iteration]) , t_d\n",
    "    \n",
    "# implements algorithm 1\n",
    "# analytical version\n",
    "# alpha: error rate of oracle\n",
    "def gaurush(iteration, alpha, t_phi, requery = 1, cons = 4):\n",
    "    query = lambda t_1, t_2, alpha : phi_query(t_1,t_2,alpha,t_phi, requery)\n",
    "    t_a = 0\n",
    "    t_b = np.pi/2\n",
    "    m_bar = np.zeros(2)\n",
    "    C_bar = 0\n",
    "    iter = 0\n",
    "    run = []\n",
    "    while len(run) <= iteration:\n",
    "        # divide the searching range into equally seperated intervals\n",
    "        t_c = (3*t_a+t_b)/4\n",
    "        t_d = (t_a+t_b)/2\n",
    "        t_e = (t_a+3*t_b)/4\n",
    "        # compute Confusion Matrices\n",
    "        C_a = np.array([[C00(t_a), C01(t_a)],[C10(t_a), C11(t_a)]])\n",
    "        C_b = np.array([[C00(t_b), C01(t_b)],[C10(t_b), C11(t_b)]])\n",
    "        C_c = np.array([[C00(t_c), C01(t_c)],[C10(t_c), C11(t_c)]])\n",
    "        C_d = np.array([[C00(t_d), C01(t_d)],[C10(t_d), C11(t_d)]])\n",
    "        C_e = np.array([[C00(t_e), C01(t_e)],[C10(t_e), C11(t_e)]])\n",
    "        # pairwise comparisons\n",
    "        ca = query(t_c, t_a, alpha)\n",
    "        dc = query(t_d, t_c, alpha)\n",
    "        ed = query(t_e, t_d, alpha)\n",
    "        be = query(t_b, t_e, alpha)\n",
    "\n",
    "        # sanity check for out-of-order responses\n",
    "        if ca and not dc:\n",
    "            ca = not ca\n",
    "        if dc and not ed:\n",
    "            dc = not dc\n",
    "        if ed and not be:\n",
    "            ed = not ed\n",
    "\n",
    "        # determine the next iter search range based on oracle resposne to query\n",
    "        if ca:\n",
    "            t_b = t_d\n",
    "        elif not ca and dc:\n",
    "            t_b = t_d\n",
    "        elif not dc and ed:\n",
    "            t_a = t_c\n",
    "            t_b = t_e\n",
    "        elif not ed and be:\n",
    "            t_a = t_d\n",
    "        else:\n",
    "            t_a = t_d\n",
    "        \n",
    "        m_bar[0], m_bar[1] = np.cos(t_d), np.sin(t_d)\n",
    "        C_bar = C_d\n",
    "        iter += 1\n",
    "        run = run + cons*requery*[t_d]\n",
    "        # print(\"iteration run:\"+str(iter))\n",
    "    return np.array(run[:iteration]) , t_d"
   ]
  },
  {
   "cell_type": "markdown",
   "metadata": {},
   "source": [
    "As we see below, the PTA works reasonably well. We can run a more exhaustive set of experiments by selecting the true metric randomly and taking the average L2 error over several runs."
   ]
  },
  {
   "cell_type": "code",
   "execution_count": 167,
   "metadata": {},
   "outputs": [
    {
     "name": "stdout",
     "output_type": "stream",
     "text": [
      "Maximizer of True Metric: 0.7774648486156559\n",
      "Estimator of True Metric: 0.7853981633974483\n",
      "L2 Norm Error: 0.21311658557004076\n"
     ]
    },
    {
     "data": {
      "image/png": "[encoded data removed]",
      "text/plain": [
       "<Figure size 432x288 with 1 Axes>"
      ]
     },
     "metadata": {
      "needs_background": "light"
     },
     "output_type": "display_data"
    }
   ],
   "source": [
    "# Pair-wise\n",
    "# Oracle at 0.3 with 0.1 error rate\n",
    "# Random query strategy\n",
    "m_star = (0.98,np.sqrt(1-0.98**2)) #11.47 degree\n",
    "t_true = random.uniform(np.pi/4,np.pi/2)\n",
    "data = gen_data(1000,eta)\n",
    "theta = np.linspace(0,np.pi/2, 100)\n",
    "y = []\n",
    "for t in theta:\n",
    "    y.append(test_phi(t,t_true))\n",
    "plt.plot(theta,y)\n",
    "plt.xlabel(\"Angle\")\n",
    "plt.ylabel(\"Performance Score\")\n",
    "plt.title(\"True Metric vs. Proxy\")\n",
    "\n",
    "_, hat_t = gaurush(iteration = 30, alpha = 0.0, t_phi = lambda t: test_phi(t,t_true))\n",
    "plt.axvline(x = hat_t, color = 'r')\n",
    "plt.axvline(x = t_true, color = 'g')\n",
    "print(\"Maximizer of True Metric: \" + str(theta[np.argmax(y)]))\n",
    "print(\"Estimator of True Metric: \" + str(hat_t))\n",
    "print(\"L2 Norm Error: \" + str(np.linalg.norm([np.cos(hat_t)-np.cos(t_true), np.sin(hat_t) - np.sin(t_true)])))"
   ]
  },
  {
   "cell_type": "code",
   "execution_count": 170,
   "metadata": {},
   "outputs": [
    {
     "name": "stdout",
     "output_type": "stream",
     "text": [
      "Maximizer of True Metric: 0.7774648486156559\n",
      "Estimator of True Metric: 0.7853991023081207\n",
      "L2 Norm Error: 0.18581600550830904\n"
     ]
    },
    {
     "data": {
      "image/png": "[encoded data removed]",
      "text/plain": [
       "<Figure size 432x288 with 1 Axes>"
      ]
     },
     "metadata": {
      "needs_background": "light"
     },
     "output_type": "display_data"
    }
   ],
   "source": [
    "# Pair-wise\n",
    "# Oracle at 0.3 with 0.1 error rate\n",
    "# Random query strategy\n",
    "m_star = (0.98,np.sqrt(1-0.98**2)) #11.47 degree\n",
    "t_true = random.uniform(np.pi/4,np.pi/2)\n",
    "data = gen_data(1000,eta)\n",
    "theta = np.linspace(0,np.pi/2, 100)\n",
    "y = []\n",
    "for t in theta:\n",
    "    y.append(test_phi(t,t_true))\n",
    "plt.plot(theta,y)\n",
    "plt.xlabel(\"Angle\")\n",
    "plt.ylabel(\"Performance Score\")\n",
    "plt.title(\"True Metric vs. Proxy\")\n",
    "\n",
    "_, hat_t = pta(num = 30, alpha = 0.0, t_phi = lambda t: test_phi(t,t_true))\n",
    "plt.axvline(x = hat_t, color = 'r')\n",
    "plt.axvline(x = t_true, color = 'g')\n",
    "print(\"Maximizer of True Metric: \" + str(theta[np.argmax(y)]))\n",
    "print(\"Estimator of True Metric: \" + str(hat_t))\n",
    "print(\"L2 Norm Error: \" + str(np.linalg.norm([np.cos(hat_t)-np.cos(t_true), np.sin(hat_t) - np.sin(t_true)])))"
   ]
  },
  {
   "cell_type": "markdown",
   "metadata": {},
   "source": [
    "We can compare the performance of PTA with a baseline algorithm that deterministically bisects the search region. Below we compute the expected performance on randomly selected preferences vs. the noise level. The plots are used in figures 2 and 3 a of the paper.\n",
    "\n",
    "## Main Figures"
   ]
  },
  {
   "cell_type": "code",
   "execution_count": 11,
   "metadata": {},
   "outputs": [],
   "source": [
    "SMALL_SIZE = 16\n",
    "MEDIUM_SIZE = 18\n",
    "BIGGER_SIZE = 20\n",
    "\n",
    "plt.rc('font', size=SMALL_SIZE)          # controls default text sizes\n",
    "plt.rc('axes', titlesize=SMALL_SIZE)     # fontsize of the axes title\n",
    "plt.rc('axes', labelsize=MEDIUM_SIZE)    # fontsize of the x and y labels\n",
    "plt.rc('xtick', labelsize=SMALL_SIZE)    # fontsize of the tick labels\n",
    "plt.rc('ytick', labelsize=SMALL_SIZE)    # fontsize of the tick labels\n",
    "plt.rc('legend', fontsize=SMALL_SIZE)    # legend fontsize\n",
    "plt.rc('axes', titlesize=BIGGER_SIZE)  # fontsize of the figure title"
   ]
  },
  {
   "cell_type": "markdown",
   "metadata": {},
   "source": [
    "The code below will generate comparisons between methods as a function of noise rate. We plot the log of the average elicitation error as measured as the difference between true and estimated decision threshold."
   ]
  },
  {
   "cell_type": "code",
   "execution_count": 140,
   "metadata": {},
   "outputs": [
    {
     "name": "stdout",
     "output_type": "stream",
     "text": [
      "0.0\n",
      "0.05\n",
      "0.1\n",
      "0.15\n",
      "0.2\n",
      "0.25\n",
      "0.3\n",
      "0.35\n",
      "0.4\n",
      "0.45\n",
      "0.5\n"
     ]
    }
   ],
   "source": [
    "#alpha = [0.0,0.05,0.1,0.15,0.2,0.25,0.3,0.35,0.4,0.45,0.5]\n",
    "#q_count = [1.0,3.00,3.0,4.00,5.0,6.00,7.0,8.00,9.0,10.0,11.0]\n",
    "alpha = [0.0,0.05,0.1,0.15,0.2,0.25,0.3,0.35,0.4,0.45,0.5]\n",
    "q_count = [1.0,4.0,6.0,8.0,9.0,12.0,15.0,21.0,28.0,39.0,50.0]\n",
    "sample_size = 100\n",
    "# PTA\n",
    "avg_loss_pta = []\n",
    "std_loss_pta = []\n",
    "\n",
    "# Baseline\n",
    "avg_loss_g = []\n",
    "std_loss_g = []\n",
    "\n",
    "# Repeated Query (Golden)\n",
    "avg_loss_t = []\n",
    "std_loss_t = []\n",
    "\n",
    "for index, a in enumerate(alpha):\n",
    "    print(a)\n",
    "    loss_pta = []\n",
    "    loss_g = []\n",
    "    loss_t = []\n",
    "    for i in range(sample_size):\n",
    "        # PTA\n",
    "        t_true = random.uniform(0,np.pi/2)\n",
    "        _, hat_t = pta(num = sample_size, alpha = a, t_phi = lambda t: phi(t,t_true))\n",
    "        loss_pta.append(np.abs(hat_t-t_true))\n",
    "        \n",
    "        # Baseline\n",
    "        _, hat_t = gaurush(iteration = sample_size, alpha = a, t_phi = lambda t: phi(t,t_true), requery = 1, cons = 4)\n",
    "        loss_g.append(np.abs(hat_t-t_true))\n",
    "        \n",
    "        # Repeated Query (Golden)\n",
    "        _, hat_t = golden(iteration = sample_size, alpha = a, t_phi = lambda t: phi(t,t_true), requery = int(q_count[index]))\n",
    "        loss_t.append(np.abs(hat_t-t_true))\n",
    "        \n",
    "        \n",
    "    avg_loss_pta.append(np.mean(loss_pta))\n",
    "    std_loss_pta.append(np.std(loss_pta))\n",
    "    \n",
    "    std_loss_g.append(np.std(loss_g))\n",
    "    avg_loss_g.append(np.mean(loss_g))\n",
    "    \n",
    "    std_loss_t.append(np.std(loss_t))\n",
    "    avg_loss_t.append(np.mean(loss_t))"
   ]
  },
  {
   "cell_type": "code",
   "execution_count": 141,
   "metadata": {},
   "outputs": [
    {
     "data": {
      "image/png": "[encoded data removed]",
      "text/plain": [
       "<Figure size 432x288 with 1 Axes>"
      ]
     },
     "metadata": {
      "needs_background": "light"
     },
     "output_type": "display_data"
    }
   ],
   "source": [
    "avg_loss_pta_g = (np.array(avg_loss_pta))\n",
    "std_loss_pta_g = (np.array(std_loss_pta))\n",
    "plt.plot(alpha,np.log(avg_loss_pta_g), 'o-', label = \"PTA\")\n",
    "plt.fill_between(alpha,np.log(avg_loss_pta_g - std_loss_pta_g/10), np.log(avg_loss_pta_g + std_loss_pta_g/10), alpha = 0.5)\n",
    "\n",
    "avg_loss_t_g = (np.array(avg_loss_t))\n",
    "std_loss_t_g = (np.array(std_loss_t))\n",
    "plt.plot(alpha,np.log(avg_loss_t_g), 'o-', label = \"Requery\")\n",
    "plt.fill_between(alpha,np.log(avg_loss_t_g - std_loss_t_g/10), np.log(avg_loss_t_g + std_loss_t_g/10), alpha = 0.5)\n",
    "\n",
    "avg_loss_g_g = (np.array(avg_loss_g))\n",
    "std_loss_g_g = (np.array(std_loss_g))\n",
    "plt.plot(alpha,np.log(avg_loss_g_g), 'o-', label = \"Baseline\")\n",
    "plt.fill_between(alpha,np.log(avg_loss_g_g - std_loss_g_g/10), np.log(avg_loss_g_g + std_loss_g_g/10), alpha = 0.5)\n",
    "\n",
    "plt.xlabel(\"Noise Level\")\n",
    "plt.ylabel(\"Log-Error\")\n",
    "#plt.title(\"Loss vs. Noise Level\")\n",
    "plt.grid(axis='x', color='0.75')\n",
    "plt.legend(bbox_to_anchor=(0,1.02,1,0.2), loc=\"lower left\",\n",
    "                mode=\"expand\", borderaxespad=0, ncol=3)\n",
    "plt.savefig(\"noise_curve_log_mean.png\",bbox_inches='tight')"
   ]
  },
  {
   "cell_type": "markdown",
   "metadata": {},
   "source": [
    "We can also compare the loss vs. the number of comparisons used by both algorithms."
   ]
  },
  {
   "cell_type": "code",
   "execution_count": 70,
   "metadata": {},
   "outputs": [
    {
     "data": {
      "image/png": "[encoded data removed]",
      "text/plain": [
       "<Figure size 432x288 with 1 Axes>"
      ]
     },
     "metadata": {
      "needs_background": "light"
     },
     "output_type": "display_data"
    }
   ],
   "source": [
    "a = 0.1\n",
    "loss_pta = []\n",
    "loss_g = []\n",
    "loss_t = []\n",
    "for i in range(100):\n",
    "    t_true = random.uniform(0,np.pi/2)\n",
    "    \n",
    "    hat_t, _ = golden(iteration = 100, alpha = a, t_phi = lambda t: phi(t,t_true), requery = 9)\n",
    "    loss_t.append(np.log(np.abs(hat_t-t_true)))\n",
    "    \n",
    "    hat_t, _ = pta(num = 100, alpha = a, t_phi = lambda t: phi(t,t_true))\n",
    "    loss_pta.append(np.log(np.abs(hat_t-t_true)))\n",
    "    \n",
    "alpha = range(100)\n",
    "plt.plot(alpha,np.mean(loss_pta, axis = 0), label = \"PTA\")\n",
    "\n",
    "loss_pta_g = np.array(loss_pta)\n",
    "plt.fill_between(alpha,np.mean(loss_pta_g, axis = 0) - np.std(loss_pta_g, axis = 0), np.mean(loss_pta_g, axis = 0) + np.std(loss_pta_g, axis = 0), alpha = 0.5)\n",
    "\n",
    "plt.plot(alpha,np.mean(loss_t, axis = 0), label = \"Golden\")\n",
    "loss_t_p = np.array(loss_t)\n",
    "plt.fill_between(alpha,np.mean(loss_t_p, axis = 0) - np.std(loss_t_p, axis = 0), np.mean(loss_t_p, axis = 0) + np.std(loss_t_p, axis = 0), alpha = 0.3)\n",
    "\n",
    "#plt.plot(alpha,np.mean(loss_g, axis = 0), label = \"PTA+Requery\")\n",
    "#loss_g_p = np.array(loss_g)\n",
    "#plt.fill_between(alpha,np.mean(loss_g_p, axis = 0) - np.std(loss_g_p, axis = 0), np.mean(loss_g_p, axis = 0) + np.std(loss_g_p, axis = 0), alpha = 0.3)\n",
    "\n",
    "plt.xlabel(\"Number of Elicitations\")\n",
    "plt.ylabel(\"Elicitation Log-Error\")\n",
    "#plt.title(r'Loss vs. Elicitations ($\\alpha$ = 0.25)')\n",
    "plt.legend(bbox_to_anchor=(0,1.02,1,0.2), loc=\"lower left\",\n",
    "                mode=\"expand\", borderaxespad=0, ncol=3)\n",
    "plt.savefig(\"loss_curve.png\",bbox_inches='tight')"
   ]
  },
  {
   "cell_type": "code",
   "execution_count": 178,
   "metadata": {
    "scrolled": true
   },
   "outputs": [
    {
     "data": {
      "image/png": "[encoded data removed]",
      "text/plain": [
       "<Figure size 432x288 with 1 Axes>"
      ]
     },
     "metadata": {
      "needs_background": "light"
     },
     "output_type": "display_data"
    }
   ],
   "source": [
    "a = 0.1\n",
    "loss_pta = []\n",
    "loss_g = []\n",
    "loss_t = []\n",
    "for i in range(1000):\n",
    "    t_true = random.uniform(0,np.pi/2)\n",
    "    #hat_t, _ = r_pta(num = 100, alpha = a, t_phi = lambda t: phi(t,t_true), requery = 7)\n",
    "    #loss_g.append(np.log(np.abs(hat_t-t_true)))\n",
    "    \n",
    "    hat_t, _ = golden(iteration = 100, alpha = a, t_phi = lambda t: phi(t,t_true), requery = 6)\n",
    "    loss_t.append((np.abs(hat_t-t_true)))\n",
    "\n",
    "    hat_r, _ = pta(num = 100, alpha = a, t_phi = lambda t: phi(t,t_true))\n",
    "    loss_pta.append((np.abs(hat_r-t_true)))\n",
    "    \n",
    "alpha = range(100)\n",
    "loss_pta_g = np.array(loss_pta)\n",
    "plt.plot(alpha,np.log(np.mean(loss_pta_g, axis = 0)), label = \"PTA\")\n",
    "#plt.ylim(-21,10)\n",
    "plt.fill_between(alpha,np.log(np.mean(loss_pta_g, axis = 0) - np.std(loss_pta_g, axis = 0)/31), np.log(np.mean(loss_pta_g, axis = 0) + np.std(loss_pta_g, axis = 0)/31), alpha = 0.5)\n",
    "\n",
    "loss_t_p = np.array(loss_t)        \n",
    "plt.plot(alpha,np.log(np.mean(loss_t, axis = 0)), label = \"Golden\")\n",
    "plt.fill_between(alpha,np.log(np.mean(loss_t_p, axis = 0) - np.std(loss_t_p, axis = 0)/31), np.log(np.mean(loss_t_p, axis = 0) + np.std(loss_t_p, axis = 0)/31), alpha = 0.3)\n",
    "\n",
    "#plt.plot(alpha,np.mean(loss_g, axis = 0), label = \"PTA+Requery\")\n",
    "#loss_g_p = np.array(loss_g)\n",
    "#plt.fill_between(alpha,np.mean(loss_g_p, axis = 0) - np.std(loss_g_p, axis = 0), np.mean(loss_g_p, axis = 0) + np.std(loss_g_p, axis = 0), alpha = 0.3)\n",
    "\n",
    "plt.xlabel(\"Number of Elicitations\")\n",
    "plt.ylabel(\"Elicitation Log-Error\")\n",
    "#plt.title(r'Loss vs. Elicitations ($\\alpha$ = 0.25)')\n",
    "plt.legend(bbox_to_anchor=(0,1.02,1,0.2), loc=\"lower left\",\n",
    "                mode=\"expand\", borderaxespad=0, ncol=3)\n",
    "plt.savefig(\"loss_curve.png\",bbox_inches='tight')"
   ]
  },
  {
   "cell_type": "markdown",
   "metadata": {},
   "source": [
    "It's also possible to do elicitation in the setting where the noise rate is a function of the comparison distance. However, now we must use a power-one statistical test to determine which direction to update in. This can work by summing the oracle returns $S_m$ until we determine with high confidence the direction of the drift. We can take the cut-off point at confidence level $\\gamma$ by defining,\n",
    "\n",
    "$$k_m = (2 m (\\log(m+1) - \\log(\\gamma)))^{1/2}$$\n",
    "\n",
    "Where $m$ indicates the number of comparisons made up to that point in the test. The first time we have $|S_m| \\ge k_m$. For our experiments we pick $\\gamma = 0.1$. "
   ]
  },
  {
   "cell_type": "code",
   "execution_count": 248,
   "metadata": {},
   "outputs": [],
   "source": [
    "def multi_phi(t1,t2,true_t,alpha):\n",
    "    S = 0\n",
    "    for i in range(1,10000):\n",
    "        s_t = np.random.choice(true_t, size = (1,))\n",
    "        S += 2 * int(phi(t1,s_t) < phi(t2,s_t))-1\n",
    "        k = np.sqrt(2*i*(np.log(i+1)-np.log(2*alpha)))\n",
    "        if S >= k:\n",
    "            return True, i\n",
    "        elif S <= -k:\n",
    "            return False, i\n",
    "    return S >= 0, 9999\n",
    "\n",
    "def weight_run(run,weight,num,rep = 1):\n",
    "    run = np.array(run)\n",
    "    weight = np.array(weight)\n",
    "    run = run*np.power(weight,1/2)\n",
    "    new_run = []\n",
    "    for i, w in enumerate(list(weight)):\n",
    "        for j in range(rep*w):\n",
    "            new_run.append(np.mean(run[:i+1]) / np.mean(np.power(weight[:i+1],1/2)))\n",
    "            #new_run.append(run[i])\n",
    "    return new_run[:num]\n",
    "\n",
    "def g_pta(num, alpha, t_phi, prior = None):\n",
    "    # Oracle at 0.3 with 0.1 error rate\n",
    "    # Random query strategy\n",
    "    if prior == None:\n",
    "        dist = Simple_Dist([(0,1),(0.5,1)])\n",
    "    else:\n",
    "        dist = prior\n",
    "    #dist.update_dist(0.5,1, alpha = alpha)\n",
    "    query = np.random.rand(num,2)\n",
    "    run = []\n",
    "    weight = []\n",
    "    s_weight = 0\n",
    "    while s_weight < num:\n",
    "        p1 = dist.invcdf(1/3)\n",
    "        p2 = dist.invcdf(2/3)\n",
    "        decision, w = t_phi(p1*np.pi/2,p2*np.pi/2)\n",
    "        s_weight += w\n",
    "        run.append(dist.invcdf(1/2)*np.pi/2)\n",
    "        weight.append(w)\n",
    "        if decision:\n",
    "            dist.update_dist(p1,1, alpha = alpha)\n",
    "        else:\n",
    "            dist.update_dist(p2,-1, alpha = alpha)\n",
    "    return weight_run(run,weight,num), dist.median()*np.pi/2\n",
    "\n",
    "# implements algorithm 1\n",
    "# analytical version\n",
    "# alpha: error rate of oracle\n",
    "def g_golden(iteration, alpha, t_phi):\n",
    "    t_a = 0\n",
    "    t_b = np.pi/2\n",
    "    m_bar = np.zeros(2)\n",
    "    C_bar = 0\n",
    "    \n",
    "    gr = (np.sqrt(5) + 1) / 2\n",
    "    t_c = t_b - (t_b - t_a) / gr\n",
    "    t_d = t_a + (t_b - t_a) / gr\n",
    "    \n",
    "    run = []\n",
    "    weight = []\n",
    "    s_weight = 0\n",
    "    while s_weight < iteration:\n",
    "        \n",
    "        # pairwise comparisons\n",
    "        decision, w = t_phi(t_c, t_d)\n",
    "        s_weight += w\n",
    "        run.append(t_d)\n",
    "        weight.append(w)\n",
    "        if not decision:\n",
    "            t_b = t_d\n",
    "        else:\n",
    "            t_a = t_c\n",
    "        t_c = t_b - (t_b - t_a) / gr\n",
    "        t_d = t_a + (t_b - t_a) / gr\n",
    "\n",
    "    return weight_run(run,weight,iteration) , t_d"
   ]
  },
  {
   "cell_type": "code",
   "execution_count": 249,
   "metadata": {
    "scrolled": true
   },
   "outputs": [
    {
     "name": "stdout",
     "output_type": "stream",
     "text": [
      "0\n",
      "1\n",
      "2\n",
      "3\n",
      "4\n",
      "5\n",
      "6\n",
      "7\n",
      "8\n",
      "9\n",
      "10\n",
      "11\n",
      "12\n",
      "13\n",
      "14\n",
      "15\n",
      "16\n",
      "17\n",
      "18\n",
      "19\n",
      "20\n",
      "21\n",
      "22\n",
      "23\n",
      "24\n",
      "25\n",
      "26\n",
      "27\n",
      "28\n",
      "29\n",
      "30\n",
      "31\n",
      "32\n",
      "33\n",
      "34\n",
      "35\n",
      "36\n",
      "37\n",
      "38\n",
      "39\n",
      "40\n",
      "41\n",
      "42\n",
      "43\n",
      "44\n",
      "45\n",
      "46\n",
      "47\n",
      "48\n",
      "49\n",
      "50\n",
      "51\n",
      "52\n",
      "53\n",
      "54\n",
      "55\n",
      "56\n",
      "57\n",
      "58\n",
      "59\n",
      "60\n",
      "61\n",
      "62\n",
      "63\n",
      "64\n",
      "65\n",
      "66\n",
      "67\n",
      "68\n",
      "69\n",
      "70\n",
      "71\n",
      "72\n",
      "73\n",
      "74\n",
      "75\n",
      "76\n",
      "77\n",
      "78\n",
      "79\n",
      "80\n",
      "81\n",
      "82\n",
      "83\n",
      "84\n",
      "85\n",
      "86\n",
      "87\n",
      "88\n",
      "89\n",
      "90\n",
      "91\n",
      "92\n",
      "93\n",
      "94\n",
      "95\n",
      "96\n",
      "97\n",
      "98\n",
      "99\n"
     ]
    }
   ],
   "source": [
    "alp_pta = 0.1\n",
    "alp_golden = 0.1\n",
    "loss_pta = []\n",
    "loss_g = []\n",
    "for i in range(100):\n",
    "    print(i)\n",
    "    a = np.random.uniform(0,np.pi/2, size = 1)[0]\n",
    "    b = np.random.uniform(0,np.pi/2, size = 1)[0]\n",
    "    t_true = np.random.uniform(min(a,b),max(a,b), size = 1000)\n",
    "    hat_t, _ = g_pta(num = 1000, alpha = alp_pta, t_phi = lambda t1,t2: multi_phi(t1,t2,t_true,alp))\n",
    "    t_true = np.median(t_true)\n",
    "    loss_pta.append(np.abs(hat_t-t_true))\n",
    "    \n",
    "    a = np.random.uniform(0,np.pi/2, size = 1)[0]\n",
    "    b = np.random.uniform(0,np.pi/2, size = 1)[0]\n",
    "    t_true = np.random.uniform(min(a,b),max(a,b), size = 1000)\n",
    "    hat_t, _ = g_golden(iteration = 1000, alpha = alp_golden, t_phi = lambda t1,t2: multi_phi(t1,t2,t_true,alp))\n",
    "    t_true = np.median(t_true)\n",
    "    loss_g.append(np.abs(hat_t-t_true))"
   ]
  },
  {
   "cell_type": "code",
   "execution_count": 250,
   "metadata": {},
   "outputs": [
    {
     "data": {
      "image/png": "[encoded data removed]",
      "text/plain": [
       "<Figure size 432x288 with 1 Axes>"
      ]
     },
     "metadata": {
      "needs_background": "light"
     },
     "output_type": "display_data"
    }
   ],
   "source": [
    "alpha = range(1000)\n",
    "plt.plot(alpha,np.mean(loss_pta, axis = 0), label = \"PTA\")\n",
    "plt.ylim(0, 0.6)\n",
    "loss_pta_p = np.array(loss_pta)\n",
    "plt.fill_between(alpha,np.maximum(0,np.mean(loss_pta_p, axis = 0) - np.std(loss_pta_p, axis = 0)), np.mean(loss_pta_p, axis = 0) + np.std(loss_pta_p, axis = 0), alpha = 0.5)\n",
    "\n",
    "plt.plot(alpha,np.mean(loss_g, axis = 0), label = \"Golden\")\n",
    "loss_g_p = np.array(loss_g)\n",
    "plt.fill_between(alpha,np.maximum(0,np.mean(loss_g_p, axis = 0) - np.std(loss_g_p, axis = 0)), np.mean(loss_g_p, axis = 0) + np.std(loss_g_p, axis = 0), alpha = 0.3)\n",
    "\n",
    "plt.xlabel(\"Number of Elicitations\")\n",
    "plt.ylabel(\"Absolute Error\")\n",
    "#plt.title(r'Loss vs. Elicitations ($\\alpha$ = 0.25)')\n",
    "plt.legend(bbox_to_anchor=(0,1.02,1,0.2), loc=\"lower left\",\n",
    "                mode=\"expand\", borderaxespad=0, ncol=3)\n",
    "plt.savefig(\"loss_curve_multi.png\",bbox_inches='tight')"
   ]
  }
 ],
 "metadata": {
  "kernelspec": {
   "display_name": "Python 3",
   "language": "python",
   "name": "python3"
  },
  "language_info": {
   "codemirror_mode": {
    "name": "ipython",
    "version": 3
   },
   "file_extension": ".py",
   "mimetype": "text/x-python",
   "name": "python",
   "nbconvert_exporter": "python",
   "pygments_lexer": "ipython3",
   "version": "3.6.9"
  }
 },
 "nbformat": 4,
 "nbformat_minor": 2
}
