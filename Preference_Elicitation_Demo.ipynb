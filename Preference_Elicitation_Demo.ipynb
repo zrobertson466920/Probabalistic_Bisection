{
 "cells": [
  {
   "cell_type": "code",
   "execution_count": 1,
   "metadata": {},
   "outputs": [],
   "source": [
    "import numpy as np\n",
    "import matplotlib.pyplot as plt"
   ]
  },
  {
   "cell_type": "markdown",
   "metadata": {},
   "source": [
    "The basic form of our problem is that an individual has a preference for a threshold value in the unit-interval, but we can only solicit the direction of the optimum relative to a comparison threshold. In practice, to solicit this direction we compare the values $\\lambda \\pm \\epsilon_0$. However, the closer the more likely our comparison will return the wrong result. \n",
    "\n",
    "**Theorem:** Say we have an oracle that given $\\lambda \\in [0,1]$ points in the direction of $\\lambda_0$. The Bayesian update for the location of $\\lambda_0$ given a collection of oracle queries is a simple function.\n",
    "\n",
    "**Proof:** We have,\n",
    "$$\n",
    "P(\\text{Optimum is at } \\lambda_0 | \\text{Right Preference at } \\lambda) $$ $$ = \\cfrac{P(\\text{Right Preference at } \\lambda | \\text{Optimum is at } \\lambda_0) \\cdot P(\\text{Optimum is at } \\lambda_0)}{\\sum_i P(\\text{Preference}_i \\text{ at } \\lambda | \\text{Optimum is at } \\lambda_0)} $$ $$\n",
    "\\Rightarrow P_{n+1}(\\text{Optimum is at } \\lambda_0)= \\begin{cases} \\cfrac{\\alpha}{N} P_n(\\text{Optimum is at } \\lambda_0) \\ \\lambda > \\lambda_0 \\\\\n",
    "\\cfrac{1-\\alpha}{N} P_n(\\text{Optimum is at } \\lambda_0) \\text{ otherwise} \\end{cases}\n",
    "$$\n",
    "Since $P_0 = 1$ then $P_1$ is a simple function. Assume for $k = n$ we have that $P_k$ is a simple function. From the above, if $P_k$ is a smple function we see $P_{k+1}$ is a simple function. By induction, $P_n$ for all $n$ is a simple function.\n",
    "\n",
    "This will guide the creation of our basic data-type for individual preferences since this we now know these will be a simple-function of the queries."
   ]
  },
  {
   "cell_type": "code",
   "execution_count": 15,
   "metadata": {},
   "outputs": [],
   "source": [
    "class Simple_Dist:\n",
    "    \n",
    "    # param = [(points,values)]\n",
    "    # constructed left-to-right on [0,1]\n",
    "    def __init__(self, init, end= 1):\n",
    "        self.param = init\n",
    "        self.end = end\n",
    "        \n",
    "    def display(self):\n",
    "        points = []\n",
    "        a_param = self.param + [(1,self.param[-1][1])]\n",
    "        for i, v in enumerate(a_param[:-1]):\n",
    "            points.append(v)\n",
    "            points.append((a_param[i+1][0],v[1]))\n",
    "        x,y = zip(*points)\n",
    "        plt.plot(x,y)\n",
    "        plt.title(\"Median Density\")\n",
    "        plt.ylabel(\"Density\")\n",
    "        plt.xlabel(\"Value\")\n",
    "    \n",
    "    def cdf(self,threshold):\n",
    "        basis = []\n",
    "        val = []\n",
    "        a_param = self.param + [(1,self.param[-1][1])]\n",
    "        for i, v in enumerate(a_param):\n",
    "            if v[0] < threshold:\n",
    "                basis.append(v[0])\n",
    "                val.append(v[1])\n",
    "            else:\n",
    "                basis.append(threshold)\n",
    "                cdf = 0\n",
    "                for i, d in enumerate(val):\n",
    "                    cdf += d*(basis[i+1]-basis[i])\n",
    "                return cdf\n",
    "            \n",
    "    def invcdf(self, prob):\n",
    "        a_param = self.param + [(self.end,self.param[-1][1])]\n",
    "        cdf = 0\n",
    "        for i, v in enumerate(a_param[:-1]):\n",
    "            if cdf+v[1]*(a_param[i+1][0]-a_param[i][0])>prob:\n",
    "                exceed = cdf+v[1]*(a_param[i+1][0]-a_param[i][0])-prob\n",
    "                return a_param[i+1][0]-exceed/v[1]\n",
    "            else:\n",
    "                cdf += v[1]*(a_param[i+1][0]-a_param[i][0])\n",
    "    \n",
    "    '''def median(self):\n",
    "        left = 0\n",
    "        right = 1\n",
    "        val = self.cdf(0.5*(left+right))\n",
    "        while True:\n",
    "            val = self.cdf(0.5*(left+right))\n",
    "            # Can this be made 'exact?'\n",
    "            if abs(val-0.5) > 0.0001:\n",
    "                if val < 0.5:\n",
    "                    left = 0.5*(left+right)\n",
    "                else:\n",
    "                    right = 0.5*(left+right)\n",
    "            else:\n",
    "                return 0.5*(left+right)'''\n",
    "    \n",
    "    def median(self):\n",
    "        return self.invcdf(0.5)\n",
    "    \n",
    "    # Vote indicates for direction\n",
    "    def update_dist(self, threshold, vote, alpha = 0.1):\n",
    "        \n",
    "        # Insert new data\n",
    "        index = next(i for i,v in enumerate(self.param+[(1,self.param[-1][1])]) if threshold < v[0])\n",
    "        if index < len(self.param) and self.param[index][0] != threshold:\n",
    "            self.param.insert(index,(threshold,self.param[index-1][1]))\n",
    "        elif index >= len(self.param):\n",
    "            self.param.insert(index,(threshold,self.param[index-1][1]))\n",
    "            \n",
    "        # Modify distribution\n",
    "        if vote == -1:\n",
    "            r_mass = 1 - self.cdf(threshold)\n",
    "            for i, v in enumerate(self.param):\n",
    "                if v[0] < threshold:\n",
    "                    self.param[i] = (v[0],v[1] * (1 - alpha))\n",
    "                else:\n",
    "                    self.param[i] = (v[0],v[1] * alpha)\n",
    "            norm = self.cdf(1)\n",
    "            for i, v in enumerate(self.param):\n",
    "                self.param[i] = (v[0], v[1]/norm)\n",
    "        else:\n",
    "            l_mass = self.cdf(threshold)\n",
    "            for i, v in enumerate(self.param):\n",
    "                if v[0] >= threshold:\n",
    "                    self.param[i] = (v[0],v[1] * (1 - alpha))\n",
    "                else:\n",
    "                    self.param[i] = (v[0],v[1] * alpha)\n",
    "            norm = self.cdf(1)\n",
    "            for i, v in enumerate(self.param):\n",
    "                self.param[i] = (v[0], v[1]/norm)"
   ]
  },
  {
   "cell_type": "markdown",
   "metadata": {},
   "source": [
    "We can perform some basic sanity checks by setting up setting up a few queries starting with a uniform distribution. Each query indicates a threshold and then is $+1$ if the optimum lays to the right and is $-1$ if the optimum lies to the left. Our $\\alpha$ parameter indicates the error rate of the queries. Also note that we are ignoring the $\\epsilon_0$ spacing that is needed to ensure $\\alpha < 1/2$. "
   ]
  },
  {
   "cell_type": "code",
   "execution_count": 6,
   "metadata": {},
   "outputs": [
    {
     "data": {
      "image/png": "[encoded data removed]",
      "text/plain": [
       "<Figure size 432x288 with 1 Axes>"
      ]
     },
     "metadata": {
      "needs_background": "light"
     },
     "output_type": "display_data"
    },
    {
     "data": {
      "image/png": "[encoded data removed]",
      "text/plain": [
       "<Figure size 432x288 with 1 Axes>"
      ]
     },
     "metadata": {
      "needs_background": "light"
     },
     "output_type": "display_data"
    }
   ],
   "source": [
    "# Basic Demo\n",
    "alpha = 0.0\n",
    "dist = Simple_Dist([(0,1)])\n",
    "dist.display()\n",
    "plt.show()\n",
    "dist.update_dist(dist.median(),1, alpha = alpha)\n",
    "dist.display()\n",
    "plt.show()"
   ]
  },
  {
   "cell_type": "markdown",
   "metadata": {},
   "source": [
    "We can randomly sample queries and see how the distribution evolves over time. In expectation, each threshold on the line either gains or loses probability at each round. Using the law of large numbers we can conclude that the threshold that loses the least evidence in each round is the optimum threshold. We can also extract a linear convergence rate. "
   ]
  },
  {
   "cell_type": "code",
   "execution_count": 21,
   "metadata": {},
   "outputs": [
    {
     "name": "stdout",
     "output_type": "stream",
     "text": [
      "0.2569367598977174\n"
     ]
    },
    {
     "data": {
      "image/png": "[encoded data removed]",
      "text/plain": [
       "<Figure size 432x288 with 1 Axes>"
      ]
     },
     "metadata": {
      "needs_background": "light"
     },
     "output_type": "display_data"
    }
   ],
   "source": [
    "# Oracle at 0.3 with 0.1 error rate\n",
    "# Random query strategy\n",
    "dist = Simple_Dist([(0,1)])\n",
    "dist.update_dist(0.5,1, alpha = alpha)\n",
    "opt = 0.3\n",
    "alpha = 0.1\n",
    "num = 20\n",
    "query = np.random.rand(num,2)\n",
    "func = lambda x : x*(1-x)\n",
    "for i in range(num):\n",
    "    if query[i][0] < opt:\n",
    "        if query[i][1] > alpha:\n",
    "            dist.update_dist(query[i][0],1, alpha = alpha)\n",
    "        else:\n",
    "            dist.update_dist(query[i][0],-1, alpha = alpha)\n",
    "    else:\n",
    "        if query[i][1] > alpha:\n",
    "            dist.update_dist(query[i][0],-1, alpha = alpha)\n",
    "        else:\n",
    "            dist.update_dist(query[i][0],1, alpha = alpha)\n",
    "dist.display()\n",
    "print(dist.median())"
   ]
  },
  {
   "cell_type": "markdown",
   "metadata": {},
   "source": [
    "Altering the code to do optimization of a hidden function is quite easy if we drop the assumption that updates will be Bayesian. All we need to do is perform a pair-wise on two points and then put mass pointing in the increasing direction. The reason the algorithm is no longer Bayesian is that there is no predetermined update when the optimum is inbetween the comparison points. For the below implementation we maintain and update 'trisections' defined at the third's of the posterior distribution's cdf. "
   ]
  },
  {
   "cell_type": "code",
   "execution_count": 60,
   "metadata": {},
   "outputs": [
    {
     "name": "stdout",
     "output_type": "stream",
     "text": [
      "0.813850609383735\n"
     ]
    },
    {
     "data": {
      "image/png": "[encoded data removed]",
      "text/plain": [
       "<Figure size 432x288 with 1 Axes>"
      ]
     },
     "metadata": {
      "needs_background": "light"
     },
     "output_type": "display_data"
    }
   ],
   "source": [
    "# Pair-wise\n",
    "# Oracle at 0.3 with 0.1 error rate\n",
    "# Random query strategy\n",
    "dist = Simple_Dist([(0,1)])\n",
    "opt = 0.3\n",
    "alpha = 0.2\n",
    "num = 20\n",
    "query = np.random.rand(num,2)\n",
    "func = lambda x : x*(1-x)+0.6*x\n",
    "for i in range(num):\n",
    "    x1 = dist.invcdf(1/3)\n",
    "    x2 = dist.invcdf(2/3)\n",
    "    if func(x1) < func(x2):\n",
    "        if query[i][1] > alpha:\n",
    "            dist.update_dist(x1,1, alpha = alpha)\n",
    "        else:\n",
    "            dist.update_dist(x2,-1, alpha = alpha)\n",
    "    else:\n",
    "        if query[i][1] > alpha:\n",
    "            dist.update_dist(x2,-1, alpha = alpha)\n",
    "        else:\n",
    "            dist.update_dist(x1,1, alpha = alpha)\n",
    "dist.display()\n",
    "print(dist.median())"
   ]
  },
  {
   "cell_type": "markdown",
   "metadata": {},
   "source": [
    "In the active learning setting we can pick which thresholds to query on. This allows for an exponential speedup over random sampling. However, showing this is much more involved. "
   ]
  },
  {
   "cell_type": "markdown",
   "metadata": {},
   "source": [
    "Up to this point we've been studying how to select optimal threshold queries so that we can update an individual preference distribution. What we'd like to do is aggregate preferences across multiple individuals. If preferences were known, we could use a Condorcet strategy and then we'd just take the median of the individual preferences as the aggregate preference. To generalize, we would want to calculate the median distribution of the individual preferences and then return the mean. Doing this is bit tricky as it requires the calculation of $k$-th order statistics. \n",
    "\n",
    "**Lemma:** Let $z_1, \\ldots, z_n$ be a collection of independent random variables with PDFs $p_i$ and CDFs $C(p_i)$. Additionally, let $Z_{N}^{(k)}$ be the $k$-th order statistic among the $(z_i)_{i \\in N}$ with PDF $P_{N}^{(k)}$ and CDF $C(P_N^{(k)})$. We have the recurrences,\n",
    "$$\n",
    "C(P_N^{(k)} )= C(P_{N-1}^{(k)}) + C(p_N) [C(P_{N-1}^{(k-1)}) - C(P_{N-1}^{(k)})] $$ $$\n",
    "P_N^{(k)} = P_{N-1}^{(k)} + p_N [C(P_{N-1}^{(k-1)}) - C(P_{N-1}^{(k)})] + C(p_N) [P_{N-1}^{(k-1)} - P_{N-1}^{(k)}]\n",
    "$$\n",
    "**Proof:** If we remove the variable $z_n$ either $Z^{(k)}_{N-1}$ is still less than $\\lambda$ or we see that $Z_{N-1}^{(k-1)} \\le \\lambda < Z_{N-1}^{(k)}$ and $Z_N \\le \\lambda$. Writing out the explicit probability makes things clear,\n",
    "$$\n",
    "\\lbrace Z^{(k)}_N \\le \\lambda \\rbrace \\iff \\lbrace Z^{(k)}_{N-1} \\le \\lambda \\rbrace \\cup \\lbrace Z_{N-1}^{(k-1)} \\le \\lambda < Z_{N-1}^{(k)} \\rbrace \\cap \\lbrace z_N \\le t \\rbrace $$ $$\n",
    "\\iff C(P_N^{(k)}) = C(P^{(k)}_{N-1}) + C(p_N) [C(P_{N-1}^{(k-1)})  - C(P_{N-1}^{(k)})]\n",
    "$$\n",
    "The last term follows from the [inclusion-exclusion principle](https://en.wikipedia.org/wiki/Inclusion%E2%80%93exclusion_principle#In_probability). Differentiation yields,\n",
    "$$\n",
    "\\Rightarrow P_N^{(k)} = P_{N-1}^{(k)} + p_N [C(P_{N-1}^{(k-1)}) - C(P_{N-1}^{(k)})] + C(p_N) [P_{N-1}^{(k-1)} - P_{N-1}^{(k)}]\n",
    "$$\n",
    "Note that we'll set need to set $C(P_N^{(0)}) = 1$ and $P_N^{(0)} = 0$ for consistency. $\\square$\n",
    "\n",
    "**Corollary:** The $k$-th order statistics can be calculated in $O(n^2)$ time. "
   ]
  },
  {
   "cell_type": "code",
   "execution_count": 18,
   "metadata": {},
   "outputs": [],
   "source": [
    "def joint_CDF(voters, threshold):\n",
    "    C = np.zeros((len(voters), len(voters)+1))\n",
    "    for n in range(len(voters)):\n",
    "        C[n,0] = 1\n",
    "    C[0,1] = voters[0].cdf(threshold)\n",
    "    for k in range(1,len(voters)+1):\n",
    "        for n in range(1, len(voters)):\n",
    "            C[n,k] = C[n-1,k]+voters[n].cdf(threshold)*(C[n-1,k-1] - C[n-1,k])\n",
    "    return C\n",
    "\n",
    "def joint_ent(voters):\n",
    "    num = 100\n",
    "    cdf = []\n",
    "    for threshold in np.linspace(0.0,1,num = num):\n",
    "        cdf.append(joint_CDF(voters,threshold)[-1,1:])\n",
    "    pdf = []\n",
    "    for i in range(num-1):\n",
    "        pdf.append(tuple(num*(cdf[i+1]-cdf[i])))\n",
    "    v = list(zip(*pdf))\n",
    "    return np.sum(-v[0][2] * np.log(v[0][2]))\n",
    "\n",
    "def joint_plot(voters):\n",
    "    num = 100\n",
    "    cdf = []\n",
    "    for threshold in np.linspace(0.0,1,num = num):\n",
    "        cdf.append(joint_CDF(voters,threshold)[-1,1:])\n",
    "    pdf = []\n",
    "    for i in range(num-1):\n",
    "        pdf.append(tuple(num*(cdf[i+1]-cdf[i])))\n",
    "    v = list(zip(*pdf))\n",
    "    plt.plot(np.linspace(0.0,1,num = num)[:-1],v[2])\n",
    "    plt.title(\"K-th Order Statistics\")"
   ]
  },
  {
   "cell_type": "code",
   "execution_count": 348,
   "metadata": {},
   "outputs": [
    {
     "data": {
      "text/plain": [
       "Text(0.5, 1.0, 'K-th Order Statistics')"
      ]
     },
     "execution_count": 348,
     "metadata": {},
     "output_type": "execute_result"
    },
    {
     "data": {
      "image/png": "[encoded data removed]",
      "text/plain": [
       "<Figure size 432x288 with 1 Axes>"
      ]
     },
     "metadata": {
      "needs_background": "light"
     },
     "output_type": "display_data"
    }
   ],
   "source": [
    "voters = [Simple_Dist([(0,1)]) for i in range(5)]\n",
    "num = 100\n",
    "cdf = []\n",
    "for threshold in np.linspace(0.0,1,num = num):\n",
    "    cdf.append(joint_CDF(voters,threshold)[-1,1:])\n",
    "pdf = []\n",
    "for i in range(num-1):\n",
    "    pdf.append(tuple(num*(cdf[i+1]-cdf[i])))\n",
    "v = list(zip(*pdf))\n",
    "for i in range(len(voters)):\n",
    "    plt.plot(np.linspace(0.0,1,num = num)[:-1],v[i])\n",
    "plt.title(\"K-th Order Statistics\")"
   ]
  },
  {
   "cell_type": "markdown",
   "metadata": {},
   "source": [
    "Since this is just proof of concept we'll use a finite-difference approximation for the PDF to avoid creating a second recursion. Note that the distribution of the median resembles a normal distribution.\n",
    "\n",
    "To continue, we need a heuristic to determine which voter-threshold query to sample given the current individual preferences. For the individual case this is intuitive. If we take the median of the distribution then we'll maximize the information gain from each query. \n",
    "\n",
    "It would make sense to maximize information gain of each query here as well. However, we can't just pick the voter with the median closest to the aggregate. It's possible the distribution is placed over the median, but is thin. Instead we'll go with a heuristic. We'll pick the median over the individual preferences that delivers the largest information gain. In the worst, case, it has performance equivalent to updating directly on the aggregate distribution. \n",
    "\n",
    "When we update an individual at the median we transfer $p \\to p_l$ or $p \\to p_r$ and then we have $H \\to H_l$ or $H \\to H_r$. Thus, the expected information gain is,\n",
    "\n",
    "$$H - \\frac{1}{2} \\cdot(H_l + H_r)$$\n",
    "\n",
    "This is easily described with our setup."
   ]
  },
  {
   "cell_type": "code",
   "execution_count": 17,
   "metadata": {},
   "outputs": [
    {
     "ename": "NameError",
     "evalue": "name 'joint_ent' is not defined",
     "output_type": "error",
     "traceback": [
      "\u001b[0;31m---------------------------------------------------------------------------\u001b[0m",
      "\u001b[0;31mNameError\u001b[0m                                 Traceback (most recent call last)",
      "\u001b[0;32m<ipython-input-17-0cc50aec7289>\u001b[0m in \u001b[0;36m<module>\u001b[0;34m\u001b[0m\n\u001b[1;32m      9\u001b[0m     \u001b[0;32mfor\u001b[0m \u001b[0mj\u001b[0m \u001b[0;32min\u001b[0m \u001b[0mrange\u001b[0m\u001b[0;34m(\u001b[0m\u001b[0;36m0\u001b[0m\u001b[0;34m,\u001b[0m\u001b[0mlen\u001b[0m\u001b[0;34m(\u001b[0m\u001b[0mvoters\u001b[0m\u001b[0;34m)\u001b[0m\u001b[0;34m)\u001b[0m\u001b[0;34m:\u001b[0m\u001b[0;34m\u001b[0m\u001b[0;34m\u001b[0m\u001b[0m\n\u001b[1;32m     10\u001b[0m         \u001b[0mquery\u001b[0m\u001b[0;34m[\u001b[0m\u001b[0mi\u001b[0m\u001b[0;34m]\u001b[0m\u001b[0;34m[\u001b[0m\u001b[0;36m0\u001b[0m\u001b[0;34m]\u001b[0m \u001b[0;34m=\u001b[0m \u001b[0mvoters\u001b[0m\u001b[0;34m[\u001b[0m\u001b[0mj\u001b[0m\u001b[0;34m]\u001b[0m\u001b[0;34m.\u001b[0m\u001b[0mmedian\u001b[0m\u001b[0;34m(\u001b[0m\u001b[0;34m)\u001b[0m\u001b[0;34m\u001b[0m\u001b[0;34m\u001b[0m\u001b[0m\n\u001b[0;32m---> 11\u001b[0;31m         \u001b[0mprior_ent\u001b[0m \u001b[0;34m=\u001b[0m \u001b[0mjoint_ent\u001b[0m\u001b[0;34m(\u001b[0m\u001b[0mvoters\u001b[0m\u001b[0;34m)\u001b[0m\u001b[0;34m\u001b[0m\u001b[0;34m\u001b[0m\u001b[0m\n\u001b[0m\u001b[1;32m     12\u001b[0m         \u001b[0mvoters\u001b[0m\u001b[0;34m[\u001b[0m\u001b[0mj\u001b[0m\u001b[0;34m]\u001b[0m\u001b[0;34m.\u001b[0m\u001b[0mupdate_dist\u001b[0m\u001b[0;34m(\u001b[0m\u001b[0mquery\u001b[0m\u001b[0;34m[\u001b[0m\u001b[0mi\u001b[0m\u001b[0;34m]\u001b[0m\u001b[0;34m[\u001b[0m\u001b[0;36m0\u001b[0m\u001b[0;34m]\u001b[0m\u001b[0;34m,\u001b[0m\u001b[0;36m1\u001b[0m\u001b[0;34m,\u001b[0m \u001b[0malpha\u001b[0m \u001b[0;34m=\u001b[0m \u001b[0malpha\u001b[0m\u001b[0;34m)\u001b[0m\u001b[0;34m\u001b[0m\u001b[0;34m\u001b[0m\u001b[0m\n\u001b[1;32m     13\u001b[0m         \u001b[0ml_ent\u001b[0m \u001b[0;34m=\u001b[0m \u001b[0mjoint_ent\u001b[0m\u001b[0;34m(\u001b[0m\u001b[0mvoters\u001b[0m\u001b[0;34m)\u001b[0m\u001b[0;34m\u001b[0m\u001b[0;34m\u001b[0m\u001b[0m\n",
      "\u001b[0;31mNameError\u001b[0m: name 'joint_ent' is not defined"
     ]
    }
   ],
   "source": [
    "# 5 voters with median preference at 0.3 each with 0.1 error rate\n",
    "voters = [Simple_Dist([(0,1)]) for i in range(5)]\n",
    "opt = [0.1,0.2,0.3,0.5,0.8]\n",
    "alpha = 0.1\n",
    "num = 20\n",
    "query = np.random.rand(num,2)\n",
    "for i in range(num):\n",
    "    value = []\n",
    "    for j in range(0,len(voters)):\n",
    "        query[i][0] = voters[j].median()\n",
    "        prior_ent = joint_ent(voters)\n",
    "        voters[j].update_dist(query[i][0],1, alpha = alpha)\n",
    "        l_ent = joint_ent(voters)\n",
    "        voters[j].update_dist(query[i][0],-1, alpha = alpha)\n",
    "        voters[j].update_dist(query[i][0],-1, alpha = alpha)\n",
    "        r_ent = joint_ent(voters)\n",
    "        voters[j].update_dist(query[i][0],1, alpha = alpha) \n",
    "        value.append(prior_ent - 0.5*(l_ent + r_ent))\n",
    "    j_opt = np.argmax(value)\n",
    "    query[i][0] = voters[j_opt].median()\n",
    "    if query[i][0] < opt[j_opt]:\n",
    "        if query[i][1] > alpha:\n",
    "            voters[j_opt].update_dist(query[i][0],1, alpha = alpha)\n",
    "        else:\n",
    "            voters[j_opt].update_dist(query[i][0],-1, alpha = alpha)\n",
    "    else:\n",
    "        if query[i][1] > alpha:\n",
    "            voters[j_opt].update_dist(query[i][0],-1, alpha = alpha)\n",
    "        else:\n",
    "            voters[j_opt].update_dist(query[i][0],1, alpha = alpha)\n",
    "joint_plot(voters)"
   ]
  },
  {
   "cell_type": "markdown",
   "metadata": {},
   "source": [
    "The distributions generated here are much 'messier' than what we tend to get from our individual elicitation strategy. The main reason for this is that the median distribution is not simple even if the underlying distributions are. However, the accuracy, seems to be slightly higher for the same number of samples. "
   ]
  },
  {
   "cell_type": "code",
   "execution_count": 16,
   "metadata": {},
   "outputs": [
    {
     "ename": "NameError",
     "evalue": "name 'voters' is not defined",
     "output_type": "error",
     "traceback": [
      "\u001b[0;31m---------------------------------------------------------------------------\u001b[0m",
      "\u001b[0;31mNameError\u001b[0m                                 Traceback (most recent call last)",
      "\u001b[0;32m<ipython-input-16-0914a85ac203>\u001b[0m in \u001b[0;36m<module>\u001b[0;34m\u001b[0m\n\u001b[1;32m      9\u001b[0m     \u001b[0mquery\u001b[0m\u001b[0;34m[\u001b[0m\u001b[0mi\u001b[0m\u001b[0;34m]\u001b[0m\u001b[0;34m[\u001b[0m\u001b[0;36m0\u001b[0m\u001b[0;34m]\u001b[0m \u001b[0;34m=\u001b[0m \u001b[0mdist\u001b[0m\u001b[0;34m.\u001b[0m\u001b[0mmedian\u001b[0m\u001b[0;34m(\u001b[0m\u001b[0;34m)\u001b[0m\u001b[0;34m\u001b[0m\u001b[0;34m\u001b[0m\u001b[0m\n\u001b[1;32m     10\u001b[0m     \u001b[0mvote\u001b[0m \u001b[0;34m=\u001b[0m \u001b[0;34m[\u001b[0m\u001b[0;34m]\u001b[0m\u001b[0;34m\u001b[0m\u001b[0;34m\u001b[0m\u001b[0m\n\u001b[0;32m---> 11\u001b[0;31m     \u001b[0;32mfor\u001b[0m \u001b[0mj\u001b[0m \u001b[0;32min\u001b[0m \u001b[0mrange\u001b[0m\u001b[0;34m(\u001b[0m\u001b[0mlen\u001b[0m\u001b[0;34m(\u001b[0m\u001b[0mvoters\u001b[0m\u001b[0;34m)\u001b[0m\u001b[0;34m)\u001b[0m\u001b[0;34m:\u001b[0m\u001b[0;34m\u001b[0m\u001b[0;34m\u001b[0m\u001b[0m\n\u001b[0m\u001b[1;32m     12\u001b[0m         \u001b[0;32mif\u001b[0m \u001b[0mquery\u001b[0m\u001b[0;34m[\u001b[0m\u001b[0mi\u001b[0m\u001b[0;34m]\u001b[0m\u001b[0;34m[\u001b[0m\u001b[0;36m0\u001b[0m\u001b[0;34m]\u001b[0m \u001b[0;34m<\u001b[0m \u001b[0mopt\u001b[0m\u001b[0;34m[\u001b[0m\u001b[0mj\u001b[0m\u001b[0;34m]\u001b[0m\u001b[0;34m:\u001b[0m\u001b[0;34m\u001b[0m\u001b[0;34m\u001b[0m\u001b[0m\n\u001b[1;32m     13\u001b[0m             \u001b[0;32mif\u001b[0m \u001b[0mquery\u001b[0m\u001b[0;34m[\u001b[0m\u001b[0mi\u001b[0m\u001b[0;34m]\u001b[0m\u001b[0;34m[\u001b[0m\u001b[0;36m1\u001b[0m\u001b[0;34m]\u001b[0m \u001b[0;34m>\u001b[0m \u001b[0malpha\u001b[0m\u001b[0;34m:\u001b[0m\u001b[0;34m\u001b[0m\u001b[0;34m\u001b[0m\u001b[0m\n",
      "\u001b[0;31mNameError\u001b[0m: name 'voters' is not defined"
     ]
    }
   ],
   "source": [
    "# Oracle at 0.3 with 0.1 error rate\n",
    "# Median query strategy\n",
    "dist = Simple_Dist([(0,1)])\n",
    "opt = [0.1,0.2,0.3,0.5,0.8]\n",
    "alpha = 0.1\n",
    "num = 4\n",
    "query = np.random.rand(num,2)\n",
    "for i in range(num):\n",
    "    query[i][0] = dist.median()\n",
    "    vote = []\n",
    "    for j in range(len(voters)):\n",
    "        if query[i][0] < opt[j]:\n",
    "            if query[i][1] > alpha:\n",
    "                vote.append(1)\n",
    "            else:\n",
    "                vote.append(-1)\n",
    "        else:\n",
    "            if query[i][1] > alpha:\n",
    "                vote.append(-1)\n",
    "            else:\n",
    "                vote.append(1)\n",
    "    if sum(vote) > 0:\n",
    "        dist.update_dist(query[i][0], 1, alpha = alpha)\n",
    "    else:\n",
    "        dist.update_dist(query[i][0], -1, alpha = alpha)\n",
    "dist.display()"
   ]
  }
 ],
 "metadata": {
  "kernelspec": {
   "display_name": "Python 3",
   "language": "python",
   "name": "python3"
  },
  "language_info": {
   "codemirror_mode": {
    "name": "ipython",
    "version": 3
   },
   "file_extension": ".py",
   "mimetype": "text/x-python",
   "name": "python",
   "nbconvert_exporter": "python",
   "pygments_lexer": "ipython3",
   "version": "3.6.9"
  }
 },
 "nbformat": 4,
 "nbformat_minor": 2
}
