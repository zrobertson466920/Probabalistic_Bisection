{
 "cells": [
  {
   "cell_type": "code",
   "execution_count": 26,
   "metadata": {},
   "outputs": [],
   "source": [
    "import numpy as np\n",
    "import matplotlib.pyplot as plt\n",
    "import random"
   ]
  },
  {
   "cell_type": "markdown",
   "metadata": {},
   "source": [
    "The basic form of our problem is that an individual has a preference for a threshold value in the unit-interval, but we can only solicit the direction of the optimum relative to a comparison threshold. In practice, to solicit this direction we compare the values $\\lambda \\pm \\epsilon_0$. However, the closer the more likely our comparison will return the wrong result. \n",
    "\n",
    "**Theorem:** Say we have an oracle that given $\\lambda \\in [0,1]$ points in the direction of $\\lambda_0$. The Bayesian update for the location of $\\lambda_0$ given a collection of oracle queries is a simple function.\n",
    "\n",
    "**Proof:** We have,\n",
    "$$\n",
    "P(\\text{Optimum is at } \\lambda_0 | \\text{Right Preference at } \\lambda) $$ $$ = \\cfrac{P(\\text{Right Preference at } \\lambda | \\text{Optimum is at } \\lambda_0) \\cdot P(\\text{Optimum is at } \\lambda_0)}{\\sum_i P(\\text{Preference}_i \\text{ at } \\lambda | \\text{Optimum is at } \\lambda_0)} $$ $$\n",
    "\\Rightarrow P_{n+1}(\\text{Optimum is at } \\lambda_0)= \\begin{cases} \\cfrac{\\alpha}{N} P_n(\\text{Optimum is at } \\lambda_0) \\ \\lambda > \\lambda_0 \\\\\n",
    "\\cfrac{1-\\alpha}{N} P_n(\\text{Optimum is at } \\lambda_0) \\text{ otherwise} \\end{cases}\n",
    "$$\n",
    "Since $P_0 = 1$ then $P_1$ is a simple function. Assume for $k = n$ we have that $P_k$ is a simple function. From the above, if $P_k$ is a smple function we see $P_{k+1}$ is a simple function. By induction, $P_n$ for all $n$ is a simple function.\n",
    "\n",
    "This will guide the creation of our basic data-type for individual preferences since this we now know these will be a simple-function of the queries."
   ]
  },
  {
   "cell_type": "code",
   "execution_count": 370,
   "metadata": {},
   "outputs": [],
   "source": [
    "class Simple_Dist:\n",
    "    \n",
    "    # param = [(points,values)]\n",
    "    # constructed left-to-right on [0,1]\n",
    "    def __init__(self, init, end= 1):\n",
    "        self.param = init\n",
    "        self.end = end\n",
    "        \n",
    "    def display(self):\n",
    "        points = []\n",
    "        a_param = self.param + [(1,self.param[-1][1])]\n",
    "        for i, v in enumerate(a_param[:-1]):\n",
    "            points.append(v)\n",
    "            points.append((a_param[i+1][0],v[1]))\n",
    "        x,y = zip(*points)\n",
    "        plt.plot(x,y)\n",
    "        plt.title(\"Median Density\")\n",
    "        plt.ylabel(\"Density\")\n",
    "        plt.xlabel(\"Value\")\n",
    "    \n",
    "    def cdf(self,threshold):\n",
    "        basis = []\n",
    "        val = []\n",
    "        a_param = self.param + [(1,self.param[-1][1])]\n",
    "        for i, v in enumerate(a_param):\n",
    "            if v[0] < threshold:\n",
    "                basis.append(v[0])\n",
    "                val.append(v[1])\n",
    "            else:\n",
    "                basis.append(threshold)\n",
    "                cdf = 0\n",
    "                for i, d in enumerate(val):\n",
    "                    cdf += d*(basis[i+1]-basis[i])\n",
    "                return cdf\n",
    "            \n",
    "    def invcdf(self, prob):\n",
    "        a_param = self.param + [(self.end,self.param[-1][1])]\n",
    "        cdf = 0\n",
    "        for i, v in enumerate(a_param[:-1]):\n",
    "            if cdf+v[1]*(a_param[i+1][0]-a_param[i][0])>prob:\n",
    "                exceed = cdf+v[1]*(a_param[i+1][0]-a_param[i][0])-prob\n",
    "                return a_param[i+1][0]-exceed/v[1]\n",
    "            else:\n",
    "                cdf += v[1]*(a_param[i+1][0]-a_param[i][0])\n",
    "    \n",
    "    def median(self):\n",
    "        return self.invcdf(0.5)\n",
    "  \n",
    "    # Vote indicates for direction\n",
    "    def update_dist(self, threshold, vote, alpha = 0.1, beta = 0.0):\n",
    "        \n",
    "        if beta == 0.0:\n",
    "            beta = 1+alpha\n",
    "        \n",
    "        # Insert new data\n",
    "        index = next(i for i,v in enumerate(self.param+[(1,self.param[-1][1])]) if threshold < v[0])\n",
    "        if index < len(self.param) and self.param[index][0] != threshold:\n",
    "            self.param.insert(index,(threshold,self.param[index-1][1]))\n",
    "        elif index >= len(self.param):\n",
    "            self.param.insert(index,(threshold,self.param[index-1][1]))\n",
    "            \n",
    "        # Modify distribution\n",
    "        if vote == -1:\n",
    "            r_mass = 1 - self.cdf(threshold)\n",
    "            for i, v in enumerate(self.param):\n",
    "                if v[0] < threshold:\n",
    "                    self.param[i] = (v[0],v[1] * (1 - alpha) / beta)\n",
    "                else:\n",
    "                    self.param[i] = (v[0],v[1] * alpha / beta)\n",
    "            norm = self.cdf(1)\n",
    "            for i, v in enumerate(self.param):\n",
    "                self.param[i] = (v[0], v[1]/norm)\n",
    "        else:\n",
    "            l_mass = self.cdf(threshold)\n",
    "            for i, v in enumerate(self.param):\n",
    "                if v[0] >= threshold:\n",
    "                    self.param[i] = (v[0],v[1] * (1 - alpha))\n",
    "                else:\n",
    "                    self.param[i] = (v[0],v[1] * alpha)\n",
    "            norm = self.cdf(1)\n",
    "            for i, v in enumerate(self.param):\n",
    "                self.param[i] = (v[0], v[1]/norm)"
   ]
  },
  {
   "cell_type": "markdown",
   "metadata": {},
   "source": [
    "We can perform some basic sanity checks by setting up setting up a few queries starting with a uniform distribution. Each query indicates a threshold and then is $+1$ if the optimum lays to the right and is $-1$ if the optimum lies to the left. Our $\\alpha$ parameter indicates the error rate of the queries. Also note that we are ignoring the $\\epsilon_0$ spacing that is needed to ensure $\\alpha < 1/2$. "
   ]
  },
  {
   "cell_type": "code",
   "execution_count": 28,
   "metadata": {},
   "outputs": [
    {
     "data": {
      "image/png": "[encoded data removed]",
      "text/plain": [
       "<Figure size 432x288 with 1 Axes>"
      ]
     },
     "metadata": {
      "needs_background": "light"
     },
     "output_type": "display_data"
    },
    {
     "data": {
      "image/png": "[encoded data removed]",
      "text/plain": [
       "<Figure size 432x288 with 1 Axes>"
      ]
     },
     "metadata": {
      "needs_background": "light"
     },
     "output_type": "display_data"
    }
   ],
   "source": [
    "# Basic Demo\n",
    "alpha = 0.0\n",
    "dist = Simple_Dist([(0,1)])\n",
    "dist.display()\n",
    "plt.show()\n",
    "dist.update_dist(dist.median(),1, alpha = alpha)\n",
    "dist.display()\n",
    "plt.show()"
   ]
  },
  {
   "cell_type": "markdown",
   "metadata": {},
   "source": [
    "We can randomly sample queries and see how the distribution evolves over time. In expectation, each threshold on the line either gains or loses probability at each round. Using the law of large numbers we can conclude that the threshold that loses the least evidence in each round is the optimum threshold. We can also extract a linear convergence rate. "
   ]
  },
  {
   "cell_type": "code",
   "execution_count": 29,
   "metadata": {},
   "outputs": [
    {
     "name": "stdout",
     "output_type": "stream",
     "text": [
      "0.5431376529819961\n"
     ]
    },
    {
     "data": {
      "image/png": "[encoded data removed]",
      "text/plain": [
       "<Figure size 432x288 with 1 Axes>"
      ]
     },
     "metadata": {
      "needs_background": "light"
     },
     "output_type": "display_data"
    }
   ],
   "source": [
    "# Oracle at 0.3 with 0.1 error rate\n",
    "# Random query strategy\n",
    "dist = Simple_Dist([(0,1)])\n",
    "dist.update_dist(0.5,1, alpha = alpha)\n",
    "opt = 0.3\n",
    "alpha = 0.1\n",
    "num = 20\n",
    "query = np.random.rand(num,2)\n",
    "func = lambda x : x*(1-x)\n",
    "for i in range(num):\n",
    "    if query[i][0] < opt:\n",
    "        if query[i][1] > alpha:\n",
    "            dist.update_dist(query[i][0],1, alpha = alpha)\n",
    "        else:\n",
    "            dist.update_dist(query[i][0],-1, alpha = alpha)\n",
    "    else:\n",
    "        if query[i][1] > alpha:\n",
    "            dist.update_dist(query[i][0],-1, alpha = alpha)\n",
    "        else:\n",
    "            dist.update_dist(query[i][0],1, alpha = alpha)\n",
    "dist.display()\n",
    "print(dist.median())"
   ]
  },
  {
   "cell_type": "markdown",
   "metadata": {},
   "source": [
    "Now we consider performance metric selection for binary classification. Suppose that we have a generative model,\n",
    "$$\\eta(x)  = p(y = 1 | x) = \\cfrac{1}{1+e^{5x}}$$\n",
    "If the performance metric is,\n",
    "$$\\mathcal{L}_{\\theta}(h) = \\cos(\\theta) \\text{TP}(h) + \\sin(\\theta) \\text{TN}(h)$$\n",
    "We can generate a Bayesian optimal classifier according to the rule,\n",
    "$$h(x) = \\mathbb{I} \\left(\\eta(x) \\ge \\frac{\\cos(\\theta)}{\\cos(\\theta) + \\sin(\\theta)} \\right)$$\n",
    "The following code introduces useful abstractions for computing quantities of interest such the confusion matrix, loss, and conditional class probability."
   ]
  },
  {
   "cell_type": "code",
   "execution_count": 30,
   "metadata": {},
   "outputs": [],
   "source": [
    "def eta(x):\n",
    "    return 1/(1+np.exp(5*x))\n",
    "\n",
    "# confusion matrix, analytical solution\n",
    "def C11(t):  # P(Y=1, h=1)\n",
    "  m11,m00 = np.cos(t), np.sin(t)\n",
    "  x_prime = 0.\n",
    "  h = h = lambda x: hb(x,t)\n",
    "  if m00 == 0:\n",
    "    x_prime = 1\n",
    "  elif m11/m00 <= 0:\n",
    "    x_prime = -1\n",
    "  else:\n",
    "    x_prime = np.log(m11/m00)/5\n",
    "    if x_prime > 1:\n",
    "      x_prime = 1\n",
    "    elif x_prime < -1:\n",
    "      x_prime = -1\n",
    "  if m00+m11 >= 0:\n",
    "    return (x_prime-0.2*np.log(1+np.exp(5*x_prime))+1+0.2*np.log(1+np.exp(-5))) # x-0.2ln(1+e^5x)\n",
    "  else:\n",
    "    return (1-0.2*np.log(1+np.exp(5))-x_prime+0.2*np.log(1+np.exp(5*x_prime)))\n",
    "\n",
    "def C10(t):  # P(Y=0, h=1)\n",
    "  return 1-C11(t)\n",
    "\n",
    "def C01(t):  # P(Y=1, h=0)\n",
    "  return 1-C00(t)\n",
    "\n",
    "def C00(t):  # P(Y=0, h=0)\n",
    "  m11,m00 = np.cos(t), np.sin(t)\n",
    "  x_prime = 0\n",
    "  h = lambda x: hb(x,t)\n",
    "  if m00 == 0:\n",
    "    x_prime = 1\n",
    "  elif (m00+m11)/m00-1 <= 0:\n",
    "    x_prime = -1\n",
    "  else:\n",
    "    x_prime = np.log(m11/m00)/5\n",
    "    if x_prime > 1:\n",
    "      x_prime = 1\n",
    "    elif x_prime < -1:\n",
    "      x_prime = -1\n",
    "  if m00+m11 >= 0:\n",
    "    return (0.2*np.log(1+np.exp(5))-0.2*np.log(1+np.exp(5*x_prime)))  # ln(1+e^5x)\n",
    "  else:\n",
    "    return (0.2*np.log(1+np.exp(5*x_prime))-0.2*np.log(1+np.exp(-5)))\n",
    "\n",
    "# metric evaluation\n",
    "def phi(t, t_true):\n",
    "  m11, m00 = np.cos(t_true), np.sin(t_true)\n",
    "  return m11*C11(t)+m00*C00(t)\n",
    "\n",
    "def gen_data(size,eta):\n",
    "    data = []\n",
    "    labels = [0,1]\n",
    "    for i in range(size):\n",
    "        x = 2*np.random.sample(1)[0]-1\n",
    "        data.append((x,np.random.choice(labels,size = 1, p = [1-eta(x),eta(x)])[0]))\n",
    "    return data\n",
    "\n",
    "def hb(x,theta):\n",
    "    m00, m11 = np.cos(theta), np.sin(theta)\n",
    "    if m11+m00 >= 0:\n",
    "      return int(eta(x)>=m00/(m11+m00))\n",
    "    else:\n",
    "      return int(eta(x)<=m00/(m11+m00))\n",
    "    \n",
    "def classify(theta,x):\n",
    "  return hb(x,theta)\n",
    "\n",
    "def f_phi(theta,t,classify,data):\n",
    "    TP = [0]\n",
    "    TN = [0]\n",
    "    for (x,y) in data:\n",
    "        if y == 0:\n",
    "            TP.append(1-classify(t,x))\n",
    "        if y == 1:\n",
    "            TN.append(classify(t,x))\n",
    "    return np.mean(TP)*np.cos(theta)+np.mean(TN)*np.sin(theta)"
   ]
  },
  {
   "cell_type": "markdown",
   "metadata": {},
   "source": [
    "Altering the code to do optimization of a hidden function is quite easy if we drop the assumption that updates will be Bayesian. All we need to do is perform a pair-wise on two points and then put mass pointing in the increasing direction. The reason the algorithm is no longer Bayesian is that there is no predetermined update when the optimum is inbetween the comparison points. For the below implementation we maintain and update 'trisections' defined at the third's of the posterior distribution's cdf. "
   ]
  },
  {
   "cell_type": "code",
   "execution_count": 373,
   "metadata": {},
   "outputs": [],
   "source": [
    "def pta(num, alpha, t_phi, prior = None):\n",
    "    # Oracle at 0.3 with 0.1 error rate\n",
    "    # Random query strategy\n",
    "    if prior == None:\n",
    "        dist = Simple_Dist([(0,1),(0.5,1)])\n",
    "    else:\n",
    "        dist = prior\n",
    "    #dist.update_dist(0.5,1, alpha = alpha)\n",
    "    query = np.random.rand(num,2)\n",
    "    run = []\n",
    "    for i in range(num):\n",
    "        p1 = dist.invcdf(1/3)\n",
    "        p2 = dist.invcdf(2/3)\n",
    "        run.append((p1+p2)/2 * np.pi/2)\n",
    "        if t_phi(p1*np.pi/2) < t_phi(p2*np.pi/2):\n",
    "            if query[i][1] > alpha:\n",
    "                dist.update_dist(p1,1, alpha = alpha)\n",
    "            else:\n",
    "                dist.update_dist(p2,-1, alpha = alpha)\n",
    "        else:\n",
    "            if query[i][1] > alpha:\n",
    "                dist.update_dist(p2,-1, alpha = alpha)\n",
    "            else:\n",
    "                dist.update_dist(p1,1, alpha = alpha)\n",
    "    #dist.display()\n",
    "    return np.array(run), dist.median()*np.pi/2"
   ]
  },
  {
   "cell_type": "markdown",
   "metadata": {},
   "source": [
    "We also implement a baseline algorithm that uses deterministic bisection strategy based on oracle responses. "
   ]
  },
  {
   "cell_type": "code",
   "execution_count": 374,
   "metadata": {},
   "outputs": [],
   "source": [
    "def phi_query(t_1, t_2, alpha, t_phi):\n",
    "  if t_phi(t_1) < t_phi(t_2):\n",
    "    if np.random.rand() > alpha:\n",
    "      return 1  # prefer t2\n",
    "    else:\n",
    "      return 0\n",
    "  else:\n",
    "    if np.random.rand() > alpha:\n",
    "      return 0  # prefer t1\n",
    "    else:\n",
    "      return 1\n",
    "    \n",
    "# implements algorithm 1\n",
    "# analytical version\n",
    "# alpha: error rate of oracle\n",
    "def gaurush(iteration, alpha, t_phi):\n",
    "    query = lambda t_1, t_2, alpha : phi_query(t_1,t_2,alpha,t_phi)\n",
    "    t_a = 0\n",
    "    t_b = np.pi/2\n",
    "    m_bar = np.zeros(2)\n",
    "    C_bar = 0\n",
    "    iter = 0\n",
    "    run = []\n",
    "    for iter in range(iteration):\n",
    "        # divide the searching range into equally seperated intervals\n",
    "        t_c = (3*t_a+t_b)/4\n",
    "        t_d = (t_a+t_b)/2\n",
    "        t_e = (t_a+3*t_b)/4\n",
    "        # compute Confusion Matrices\n",
    "        C_a = np.array([[C00(t_a), C01(t_a)],[C10(t_a), C11(t_a)]])\n",
    "        C_b = np.array([[C00(t_b), C01(t_b)],[C10(t_b), C11(t_b)]])\n",
    "        C_c = np.array([[C00(t_c), C01(t_c)],[C10(t_c), C11(t_c)]])\n",
    "        C_d = np.array([[C00(t_d), C01(t_d)],[C10(t_d), C11(t_d)]])\n",
    "        C_e = np.array([[C00(t_e), C01(t_e)],[C10(t_e), C11(t_e)]])\n",
    "        # pairwise comparisons\n",
    "        ca = query(t_c, t_a, alpha)\n",
    "        dc = query(t_d, t_c, alpha)\n",
    "        ed = query(t_e, t_d, alpha)\n",
    "        be = query(t_b, t_e, alpha)\n",
    "\n",
    "        # sanity check for out-of-order responses\n",
    "        if ca and not dc:\n",
    "            ca = not ca\n",
    "        if dc and not ed:\n",
    "            dc = not dc\n",
    "        if ed and not be:\n",
    "            ed = not ed\n",
    "\n",
    "        # determine the next iter search range based on oracle resposne to query\n",
    "        if ca:\n",
    "            t_b = t_d\n",
    "        elif not ca and dc:\n",
    "            t_b = t_d\n",
    "        elif not dc and ed:\n",
    "            t_a = t_c\n",
    "            t_b = t_e\n",
    "        elif not ed and be:\n",
    "            t_a = t_d\n",
    "        else:\n",
    "            t_a = t_d\n",
    "        \n",
    "        m_bar[0], m_bar[1] = np.cos(t_d), np.sin(t_d)\n",
    "        C_bar = C_d\n",
    "        iter += 1\n",
    "        run = run + [t_d,t_d,t_d,t_d]\n",
    "        # print(\"iteration run:\"+str(iter))\n",
    "    return np.array(run) , t_d"
   ]
  },
  {
   "cell_type": "markdown",
   "metadata": {},
   "source": [
    "As we see below, the PTA works reasonably well. We can run a more exhaustive set of experiments by selecting the true metric randomly and taking the average L2 error over several runs."
   ]
  },
  {
   "cell_type": "code",
   "execution_count": 35,
   "metadata": {},
   "outputs": [
    {
     "name": "stdout",
     "output_type": "stream",
     "text": [
      "Maximizer of True Metric: 0.9837310329422585\n",
      "Estimator of True Metric: 0.9854777459723059\n",
      "L2 Norm Error: 2.231933868216871e-08\n"
     ]
    },
    {
     "data": {
      "image/png": "[encoded data removed]",
      "text/plain": [
       "<Figure size 432x288 with 1 Axes>"
      ]
     },
     "metadata": {
      "needs_background": "light"
     },
     "output_type": "display_data"
    }
   ],
   "source": [
    "# Pair-wise\n",
    "# Oracle at 0.3 with 0.1 error rate\n",
    "# Random query strategy\n",
    "m_star = (0.98,np.sqrt(1-0.98**2)) #11.47 degree\n",
    "t_true = random.uniform(np.pi/4,np.pi/2)\n",
    "data = gen_data(1000,eta)\n",
    "theta = np.linspace(0,np.pi/2, 100)\n",
    "y = []\n",
    "for t in theta:\n",
    "    y.append(phi(t,t_true))\n",
    "plt.plot(theta,y)\n",
    "plt.xlabel(\"Angle\")\n",
    "plt.ylabel(\"Performance Score\")\n",
    "plt.title(\"True Metric vs. Proxy\")\n",
    "\n",
    "_, hat_t = gaurush(iteration = 30, alpha = 0.0, t_phi = lambda t: phi(t,t_true))\n",
    "plt.axvline(x = hat_t, color = 'r')\n",
    "plt.axvline(x = t_true, color = 'g')\n",
    "print(\"Maximizer of True Metric: \" + str(theta[np.argmax(y)]))\n",
    "print(\"Estimator of True Metric: \" + str(hat_t))\n",
    "print(\"L2 Norm Error: \" + str(np.linalg.norm([np.cos(hat_t)-np.cos(t_true), np.sin(hat_t) - np.sin(t_true)])))"
   ]
  },
  {
   "cell_type": "code",
   "execution_count": 36,
   "metadata": {},
   "outputs": [
    {
     "name": "stdout",
     "output_type": "stream",
     "text": [
      "Maximizer of True Metric: 1.2217304763960306\n",
      "Estimator of True Metric: 1.1053731449667046\n",
      "L2 Norm Error: 0.11785656142755\n"
     ]
    },
    {
     "data": {
      "image/png": "[encoded data removed]",
      "text/plain": [
       "<Figure size 432x288 with 1 Axes>"
      ]
     },
     "metadata": {
      "needs_background": "light"
     },
     "output_type": "display_data"
    }
   ],
   "source": [
    "# Pair-wise\n",
    "# Oracle at 0.3 with 0.1 error rate\n",
    "# Random query strategy\n",
    "m_star = (0.98,np.sqrt(1-0.98**2)) #11.47 degree\n",
    "t_true = random.uniform(np.pi/4,np.pi/2)\n",
    "data = gen_data(1000,eta)\n",
    "theta = np.linspace(0,np.pi/2, 100)\n",
    "y = []\n",
    "for t in theta:\n",
    "    y.append(phi(t,t_true))\n",
    "plt.plot(theta,y)\n",
    "plt.xlabel(\"Angle\")\n",
    "plt.ylabel(\"Performance Score\")\n",
    "plt.title(\"True Metric vs. Proxy\")\n",
    "\n",
    "_, hat_t = pta(num = 30, alpha = 0.0, t_phi = lambda t: phi(t,t_true))\n",
    "plt.axvline(x = hat_t, color = 'r')\n",
    "plt.axvline(x = t_true, color = 'g')\n",
    "print(\"Maximizer of True Metric: \" + str(theta[np.argmax(y)]))\n",
    "print(\"Estimator of True Metric: \" + str(hat_t))\n",
    "print(\"L2 Norm Error: \" + str(np.linalg.norm([np.cos(hat_t)-np.cos(t_true), np.sin(hat_t) - np.sin(t_true)])))"
   ]
  },
  {
   "cell_type": "markdown",
   "metadata": {},
   "source": [
    "We can compare the performance of PTA with a baseline algorithm that deterministically bisects the search region. Below we compute the expected performance on randomly selected preferences vs. the noise level. "
   ]
  },
  {
   "cell_type": "code",
   "execution_count": 402,
   "metadata": {},
   "outputs": [
    {
     "data": {
      "image/png": "[encoded data removed]",
      "text/plain": [
       "<Figure size 432x288 with 1 Axes>"
      ]
     },
     "metadata": {
      "needs_background": "light"
     },
     "output_type": "display_data"
    }
   ],
   "source": [
    "alpha = np.linspace(0.01,0.5,20)\n",
    "avg_loss_pta = []\n",
    "avg_loss_g = []\n",
    "for a in alpha:\n",
    "    loss_pta = []\n",
    "    loss_g = []\n",
    "    for i in range(100):\n",
    "        t_true = random.uniform(0,np.pi/2)\n",
    "        _, hat_t = pta(num = 100, alpha = a / (1+a), t_phi = lambda t: phi(t,t_true))\n",
    "        loss_pta.append(np.linalg.norm([np.cos(hat_t)-np.cos(t_true), np.sin(hat_t) - np.sin(t_true)]))\n",
    "        _, hat_t = gaurush(iteration = 25, alpha = a, t_phi = lambda t: phi(t,t_true))\n",
    "        loss_g.append(np.linalg.norm([np.cos(hat_t)-np.cos(t_true), np.sin(hat_t) - np.sin(t_true)]))\n",
    "    avg_loss_pta.append(np.mean(loss_pta))\n",
    "    avg_loss_g.append(np.mean(loss_g))\n",
    "\n",
    "plt.plot(alpha,avg_loss_pta, label = \"PTA\")\n",
    "avg_loss_pta = np.array(avg_loss_pta)\n",
    "plt.fill_between(alpha,np.maximum(0,avg_loss_pta - np.std(avg_loss_pta)), avg_loss_pta + np.std(avg_loss_pta), alpha = 0.5)\n",
    "\n",
    "plt.plot(alpha,avg_loss_g, label = \"Baseline\")\n",
    "avg_loss_pta = np.array(avg_loss_g)\n",
    "plt.fill_between(alpha,np.maximum(0,avg_loss_g - np.std(avg_loss_g)), avg_loss_g + np.std(avg_loss_g), alpha = 0.5)\n",
    "plt.xlabel(\"Noise Level\")\n",
    "plt.ylabel(\"Elicitation Error\")\n",
    "plt.title(\"Loss vs. Noise Level\")\n",
    "plt.legend(loc = \"upper left\")\n",
    "plt.savefig(\"noise_curve.png\")"
   ]
  },
  {
   "cell_type": "markdown",
   "metadata": {},
   "source": [
    "We can also compare the loss vs. the number of comparisons used by both algorithms. "
   ]
  },
  {
   "cell_type": "code",
   "execution_count": 400,
   "metadata": {},
   "outputs": [
    {
     "data": {
      "image/png": "[encoded data removed]",
      "text/plain": [
       "<Figure size 432x288 with 1 Axes>"
      ]
     },
     "metadata": {
      "needs_background": "light"
     },
     "output_type": "display_data"
    }
   ],
   "source": [
    "a = 0.25\n",
    "loss_pta = []\n",
    "loss_g = []\n",
    "for i in range(100):\n",
    "    t_true = random.uniform(0,np.pi/2)\n",
    "    hat_t, _ = gaurush(iteration = 250, alpha = a, t_phi = lambda t: phi(t,t_true))\n",
    "    loss_g.append(np.linalg.norm([np.cos(hat_t)-np.cos(t_true), np.sin(hat_t) - np.sin(t_true)], axis = 0))\n",
    "    hat_t, _ = pta(num = 1000, alpha = a / (1+a), t_phi = lambda t: phi(t,t_true))\n",
    "    loss_pta.append(np.linalg.norm([np.cos(hat_t)-np.cos(t_true), np.sin(hat_t) - np.sin(t_true)], axis = 0))\n",
    "\n",
    "alpha = range(1000)\n",
    "plt.plot(alpha,np.mean(loss_pta, axis = 0), label = \"PTA\")\n",
    "loss_pta = np.array(loss_pta)\n",
    "plt.fill_between(alpha,np.maximum(0,np.mean(loss_pta, axis = 0) - np.std(loss_pta, axis = 0)), np.mean(loss_pta, axis = 0) + np.std(loss_pta, axis = 0), alpha = 0.5)\n",
    "\n",
    "plt.plot(alpha,np.mean(loss_g, axis = 0), label = \"Baseline\")\n",
    "loss_g = np.array(loss_g)\n",
    "plt.fill_between(alpha,np.maximum(0,np.mean(loss_g, axis = 0) - np.std(loss_g, axis = 0)), np.mean(loss_g, axis = 0) + np.std(loss_g, axis = 0), alpha = 0.3)\n",
    "\n",
    "plt.xlabel(\"Number of Elicitations\")\n",
    "plt.ylabel(\"Elicitation Error\")\n",
    "plt.title(r'Loss vs. Number of Elicitations ($\\alpha$ = 0.25)')\n",
    "plt.legend(loc = \"upper right\")\n",
    "plt.savefig(\"loss_curve.png\")"
   ]
  },
  {
   "cell_type": "markdown",
   "metadata": {},
   "source": [
    "It's also possible to do elicitation in the setting where the noise rate is a function of the comparison distance. However, now we must use a power-one statistical test to determine which direction to update in. This can work by summing the oracle returns $S_m$ until we determine with high confidence the direction of the drift. We can take the cut-off point at confidence level $\\gamma$ by defining,\n",
    "\n",
    "$$k_m = (2 m (\\log(m+1) - \\log(\\gamma)))^{1/2}$$\n",
    "\n",
    "Where $m$ indicates the number of comparisons made up to that point in the test. The first time we have $|S_m| \\ge k_m$. For our experiments we pick $\\gamma = 0.1$. "
   ]
  },
  {
   "cell_type": "code",
   "execution_count": 394,
   "metadata": {},
   "outputs": [],
   "source": [
    "def multi_phi(t1,t2,true_t,alpha):\n",
    "    S = 0\n",
    "    for i in range(1,10000):\n",
    "        s_t = np.random.choice(true_t, size = (1,))\n",
    "        S += 2 * int(phi(t1,s_t) < phi(t2,s_t))-1\n",
    "        k = np.sqrt(2*i*(np.log(i+1)-np.log(2*alpha)))\n",
    "        if S >= k:\n",
    "            return True, i\n",
    "        elif S <= -k:\n",
    "            return False, i\n",
    "    return S >= 0, 9999\n",
    "\n",
    "def weight_run(run,weight,num,rep = 1):\n",
    "    run = np.array(run)\n",
    "    weight = np.array(weight)\n",
    "    run = run*np.power(weight,1/2)\n",
    "    new_run = []\n",
    "    for i, w in enumerate(list(weight)):\n",
    "        for j in range(rep*w):\n",
    "            new_run.append(np.mean(run[:i+1]) / np.mean(np.power(weight[:i+1],1/2)))\n",
    "            #new_run.append(run[i])\n",
    "    return new_run[:num]\n",
    "\n",
    "def g_pta(num, alpha, t_phi, prior = None):\n",
    "    # Oracle at 0.3 with 0.1 error rate\n",
    "    # Random query strategy\n",
    "    if prior == None:\n",
    "        dist = Simple_Dist([(0,1),(0.5,1)])\n",
    "    else:\n",
    "        dist = prior\n",
    "    #dist.update_dist(0.5,1, alpha = alpha)\n",
    "    query = np.random.rand(num,2)\n",
    "    run = []\n",
    "    weight = []\n",
    "    s_weight = 0\n",
    "    while s_weight < num:\n",
    "        p1 = dist.invcdf(1/3)\n",
    "        p2 = dist.invcdf(2/3)\n",
    "        decision, w = t_phi(p1*np.pi/2,p2*np.pi/2)\n",
    "        s_weight += w\n",
    "        run.append(dist.invcdf(1/2)*np.pi/2)\n",
    "        weight.append(w)\n",
    "        if decision:\n",
    "            dist.update_dist(p1,1, alpha = alpha)\n",
    "        else:\n",
    "            dist.update_dist(p2,-1, alpha = alpha)\n",
    "    return weight_run(run,weight,num), dist.median()*np.pi/2\n",
    "\n",
    "def g_gaurush(iteration, alpha, t_phi):\n",
    "    query = lambda t_1, t_2: t_phi(t_1,t_2)\n",
    "    t_a = 0\n",
    "    t_b = np.pi/2\n",
    "    m_bar = np.zeros(2)\n",
    "    C_bar = 0\n",
    "    iter = 0\n",
    "    run = []\n",
    "    weight = []\n",
    "    s_weight = 0\n",
    "    while s_weight < iteration:\n",
    "        # divide the searching range into equally seperated intervals\n",
    "        t_c = (3*t_a+t_b)/4\n",
    "        t_d = (t_a+t_b)/2\n",
    "        t_e = (t_a+3*t_b)/4\n",
    "        # compute Confusion Matrices\n",
    "        C_a = np.array([[C00(t_a), C01(t_a)],[C10(t_a), C11(t_a)]])\n",
    "        C_b = np.array([[C00(t_b), C01(t_b)],[C10(t_b), C11(t_b)]])\n",
    "        C_c = np.array([[C00(t_c), C01(t_c)],[C10(t_c), C11(t_c)]])\n",
    "        C_d = np.array([[C00(t_d), C01(t_d)],[C10(t_d), C11(t_d)]])\n",
    "        C_e = np.array([[C00(t_e), C01(t_e)],[C10(t_e), C11(t_e)]])\n",
    "        # pairwise comparisons\n",
    "        ca, wa = query(t_c, t_a)\n",
    "        dc, wc = query(t_d, t_c)\n",
    "        ed, wd = query(t_e, t_d)\n",
    "        be, we = query(t_b, t_e)\n",
    "\n",
    "        # sanity check for out-of-order responses\n",
    "        if ca and not dc:\n",
    "            ca = not ca\n",
    "        if dc and not ed:\n",
    "            dc = not dc\n",
    "        if ed and not be:\n",
    "            ed = not ed\n",
    "\n",
    "        # determine the next iter search range based on oracle resposne to query\n",
    "        if ca:\n",
    "            t_b = t_d\n",
    "        elif not ca and dc:\n",
    "            t_b = t_d\n",
    "        elif not dc and ed:\n",
    "            t_a = t_c\n",
    "            t_b = t_e\n",
    "        elif not ed and be:\n",
    "            t_a = t_d\n",
    "        else:\n",
    "            t_a = t_d\n",
    "        \n",
    "        m_bar[0], m_bar[1] = np.cos(t_d), np.sin(t_d)\n",
    "        C_bar = C_d\n",
    "        iter += 1\n",
    "        s_weight += wa+wc+wd+we\n",
    "        for i in range(4*(wa+wc+wd+we)):\n",
    "            run.append(t_d)\n",
    "        weight.append(wd)\n",
    "        # print(\"iteration run:\"+str(iter))\n",
    "    return  run[:4*iteration], t_d"
   ]
  },
  {
   "cell_type": "code",
   "execution_count": 398,
   "metadata": {
    "scrolled": true
   },
   "outputs": [
    {
     "name": "stdout",
     "output_type": "stream",
     "text": [
      "(0, 0.8099516958019326)\n",
      "(1, 0.7534053992305807)\n",
      "(2, 0.9425073784298008)\n",
      "(3, 0.8268249805318683)\n",
      "(4, 1.1447198194215826)\n",
      "(5, 1.1278078026958624)\n",
      "(6, 1.0036872282100744)\n",
      "(7, 1.1834714024909854)\n",
      "(8, 1.0847845455436482)\n",
      "(9, 1.1583702126694624)\n",
      "(10, 0.7228985875100763)\n",
      "(11, 0.4812596158441013)\n",
      "(12, 0.9207691045074791)\n",
      "(13, 0.6610822048344309)\n",
      "(14, 0.6848283652466953)\n",
      "(15, 0.8811882435621766)\n",
      "(16, 0.5316249466664362)\n",
      "(17, 0.9712312787729289)\n",
      "(18, 0.7440040201096907)\n",
      "(19, 0.341410573602949)\n",
      "(20, 0.03773410723149087)\n",
      "(21, 0.5963516617764189)\n",
      "(22, 1.269362268010676)\n",
      "(23, 0.6630878961928911)\n",
      "(24, 0.9449595202096025)\n",
      "(25, 1.1139426167766084)\n",
      "(26, 0.636719373361159)\n",
      "(27, 0.84451190223365)\n",
      "(28, 0.8148983133926139)\n",
      "(29, 0.06378602173759777)\n",
      "(30, 0.45008325805564686)\n",
      "(31, 0.7062199797366842)\n",
      "(32, 0.49710167558318136)\n",
      "(33, 0.931958144116365)\n",
      "(34, 0.8079052686573494)\n",
      "(35, 1.2228672879381761)\n",
      "(36, 1.0424032828795884)\n",
      "(37, 1.1255355703807046)\n",
      "(38, 0.30880587724623193)\n",
      "(39, 1.0745097642492665)\n",
      "(40, 0.5843659271515302)\n",
      "(41, 0.840550015488071)\n",
      "(42, 0.5775885332825873)\n",
      "(43, 0.5916987764789902)\n",
      "(44, 0.9495555592419758)\n",
      "(45, 1.1485428260619508)\n",
      "(46, 0.2268443594120761)\n",
      "(47, 0.8025869500014124)\n",
      "(48, 1.1210164094375936)\n",
      "(49, 0.1874242661848447)\n",
      "(50, 0.8388515674814968)\n",
      "(51, 0.7995613133406382)\n",
      "(52, 0.15517141491583375)\n",
      "(53, 0.8524589812699016)\n",
      "(54, 1.0165040868376354)\n",
      "(55, 0.7893443987322974)\n",
      "(56, 1.0426294425812266)\n",
      "(57, 0.6504730547730417)\n",
      "(58, 0.56940835612265)\n",
      "(59, 0.2275272049414676)\n",
      "(60, 0.7631419705197781)\n",
      "(61, 1.3697516131736327)\n",
      "(62, 0.5702289236533595)\n",
      "(63, 1.0672628385646696)\n",
      "(64, 0.6920000489212201)\n",
      "(65, 0.5710385545534833)\n",
      "(66, 0.4099230672850651)\n",
      "(67, 0.4195673732551159)\n",
      "(68, 0.8837579192302648)\n",
      "(69, 0.85616691327982)\n",
      "(70, 0.21435122451619892)\n",
      "(71, 0.9142701729416551)\n",
      "(72, 0.42947921726338234)\n",
      "(73, 1.319113342819875)\n",
      "(74, 1.2267730008174538)\n",
      "(75, 0.20924212680956228)\n",
      "(76, 0.5085785822802648)\n",
      "(77, 0.953688615615536)\n",
      "(78, 1.3572384048371688)\n",
      "(79, 0.20698102498663798)\n",
      "(80, 0.43059880560109864)\n",
      "(81, 0.5249985363956549)\n",
      "(82, 1.0910472303134604)\n",
      "(83, 0.9622148914982878)\n",
      "(84, 1.2759766992935933)\n",
      "(85, 0.32384796514738284)\n",
      "(86, 0.43082820345101697)\n",
      "(87, 0.7188130736101059)\n",
      "(88, 1.1181595447005297)\n",
      "(89, 1.5013798837353332)\n",
      "(90, 0.7952954890613186)\n",
      "(91, 0.6398528874750048)\n",
      "(92, 0.07085848560061847)\n",
      "(93, 1.1471769662171207)\n",
      "(94, 0.2031209454400914)\n",
      "(95, 1.3614501330309188)\n",
      "(96, 0.6893289305644494)\n",
      "(97, 0.6928343262756291)\n",
      "(98, 1.0365528426488027)\n",
      "(99, 0.5000262002769347)\n"
     ]
    },
    {
     "data": {
      "image/png": "[encoded data removed]",
      "text/plain": [
       "<Figure size 432x288 with 1 Axes>"
      ]
     },
     "metadata": {
      "needs_background": "light"
     },
     "output_type": "display_data"
    }
   ],
   "source": [
    "alp = 0.25\n",
    "loss_pta = []\n",
    "loss_g = []\n",
    "for i in range(100):\n",
    "    a = np.random.uniform(0,np.pi/2, size = 1)[0]\n",
    "    b = np.random.uniform(0,np.pi/2, size = 1)[0]\n",
    "    t_true = np.random.uniform(min(a,b),max(a,b), size = 1000)\n",
    "    print((i,np.median(t_true)))\n",
    "    hat_t, _ = g_pta(num = 1000, alpha = alp, t_phi = lambda t1,t2: multi_phi(t1,t2,t_true,alp))\n",
    "    t_true = np.median(t_true)\n",
    "    loss_pta.append(np.linalg.norm([np.cos(hat_t)-np.cos(t_true), np.sin(hat_t) - np.sin(t_true)], axis = 0))\n",
    "    \n",
    "    a = np.random.uniform(0,np.pi/2, size = 1)[0]\n",
    "    b = np.random.uniform(0,np.pi/2, size = 1)[0]\n",
    "    t_true = np.random.uniform(min(a,b),max(a,b), size = 1000)\n",
    "    hat_t, _ = g_gaurush(iteration = 250, alpha = alp, t_phi = lambda t1,t2: multi_phi(t1,t2,t_true,alp))\n",
    "    t_true = np.median(t_true)\n",
    "    loss_g.append(np.linalg.norm([np.cos(hat_t)-np.cos(t_true), np.sin(hat_t) - np.sin(t_true)], axis = 0))\n",
    "\n",
    "alpha = range(1000)\n",
    "plt.plot(alpha,np.mean(loss_pta, axis = 0), label = \"PTA\")\n",
    "loss_pta = np.array(loss_pta)\n",
    "plt.fill_between(alpha,np.maximum(0,np.mean(loss_pta, axis = 0) - np.std(loss_pta, axis = 0)), np.mean(loss_pta, axis = 0) + np.std(loss_pta, axis = 0), alpha = 0.5)\n",
    "\n",
    "plt.plot(alpha,np.mean(loss_g, axis = 0), label = \"Baseline\")\n",
    "loss_g = np.array(loss_g)\n",
    "plt.fill_between(alpha,np.maximum(0,np.mean(loss_g, axis = 0) - np.std(loss_g, axis = 0)), np.mean(loss_g, axis = 0) + np.std(loss_g, axis = 0), alpha = 0.3)\n",
    "\n",
    "plt.xlabel(\"Number of Elicitations\")\n",
    "plt.ylabel(\"Elicitation Error\")\n",
    "plt.title(r'Loss vs. Number of Elicitations ($\\alpha$ = 0.25)')\n",
    "plt.legend(loc = \"upper right\")\n",
    "plt.savefig(\"loss_curve_multi.png\")"
   ]
  }
 ],
 "metadata": {
  "kernelspec": {
   "display_name": "Python 3",
   "language": "python",
   "name": "python3"
  },
  "language_info": {
   "codemirror_mode": {
    "name": "ipython",
    "version": 3
   },
   "file_extension": ".py",
   "mimetype": "text/x-python",
   "name": "python",
   "nbconvert_exporter": "python",
   "pygments_lexer": "ipython3",
   "version": "3.6.9"
  }
 },
 "nbformat": 4,
 "nbformat_minor": 2
}
