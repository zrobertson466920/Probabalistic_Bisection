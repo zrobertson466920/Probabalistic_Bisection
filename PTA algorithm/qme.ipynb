{
 "cells": [
  {
   "cell_type": "markdown",
   "metadata": {},
   "source": [
    "This code runs the QME algorithm on a randomly generated $(a, B)$. QME uses LPME as a subroutine, so it effectively achieves its predictions using just oracle comparisons.\n",
    "\n",
    "Note that the QME algorithm is more susceptible to error than LPME because it uses fractions. Keep following the code for an explanation. In the code we've built in an inconsistency checker that, when flipped on, checks the cosine similarity between expected (true) gradients and the gradients determined by LPME. Later in this notebook we run trials to see the error statistics, and **even in the worst case the gradient estimation is very accurate** with cosine similarity < $10^{-6}$. We show the error can be entirely attributed to the use of fractions, and we show comparisons to so-called \"well-formed\" $(a, B)$ that satisfy the regularity assumption in the paper to \"ill-formed\" $(a, B)$ that are truly random.\n",
    "\n",
    "The trials run in this notebook will be saved to disk in *trials/qme/well_formed* and *trials/qme/ill_formed*. *qme_results_analyze.ipynb* will use these to make graphs."
   ]
  },
  {
   "cell_type": "code",
   "execution_count": 1,
   "metadata": {},
   "outputs": [],
   "source": [
    "%load_ext autoreload\n",
    "\n",
    "%autoreload 2"
   ]
  },
  {
   "cell_type": "code",
   "execution_count": 2,
   "metadata": {},
   "outputs": [],
   "source": [
    "import numpy as np\n",
    "from scipy import spatial\n",
    "from tqdm import tqdm_notebook\n",
    "import matplotlib.pyplot as plt\n",
    "\n",
    "import sys\n",
    "sys.path.append('../')\n",
    "from common import Sphere, Oracle, create_a_B, normalize\n",
    "from qme import QME, QMESC\n",
    "from trials import NUM_TRIALS, load_qme_sphere, load_a_B, write_qme_trial, write_qme_trial_summary"
   ]
  },
  {
   "cell_type": "markdown",
   "metadata": {},
   "source": [
    "# Example"
   ]
  },
  {
   "cell_type": "code",
   "execution_count": 3,
   "metadata": {},
   "outputs": [],
   "source": [
    "np.random.seed(7)\n",
    "\n",
    "# number of classes\n",
    "nc = 2\n",
    "# well_formed input\n",
    "wf = True\n",
    "# the tighter this is, the closer to the true answer (in all cases)\n",
    "search_tol = 1e-3\n",
    "\n",
    "q = nc ** 2 - nc"
   ]
  },
  {
   "cell_type": "code",
   "execution_count": 4,
   "metadata": {},
   "outputs": [],
   "source": [
    "sphere = Sphere(np.zeros(q), 1.0, q)\n",
    "a, B = create_a_B(sphere, q, wf)\n",
    "oracle = Oracle(a, B)"
   ]
  },
  {
   "cell_type": "code",
   "execution_count": 5,
   "metadata": {},
   "outputs": [],
   "source": [
    "qm = QME(sphere, oracle, search_tol, wf)\n",
    "ahat, Bhat = qm.run_qme()"
   ]
  },
  {
   "cell_type": "code",
   "execution_count": 6,
   "metadata": {},
   "outputs": [
    {
     "name": "stdout",
     "output_type": "stream",
     "text": [
      "a squared error: 0.0016076871061441085\n",
      "B squared error: 0.0018994205472158427\n"
     ]
    }
   ],
   "source": [
    "# not bad, not bad\n",
    "print(\"a squared error:\", np.linalg.norm(ahat - a))\n",
    "print(\"B squared error:\", np.linalg.norm(Bhat - B, ord='fro'))"
   ]
  },
  {
   "cell_type": "code",
   "execution_count": null,
   "metadata": {},
   "outputs": [],
   "source": []
  },
  {
   "cell_type": "markdown",
   "metadata": {},
   "source": [
    "# Trials\n",
    "\n",
    "First run `python trials.py`.\n",
    "\n",
    "Make sure to run all choices of $2 \\leq nc \\leq 5 $ and $wf \\in \\{True, False\\}$. With 6-core multiprocessing, this should take 10-20 minutes total."
   ]
  },
  {
   "cell_type": "code",
   "execution_count": 7,
   "metadata": {},
   "outputs": [],
   "source": [
    "import multiprocessing as mp\n",
    "import os"
   ]
  },
  {
   "cell_type": "code",
   "execution_count": 8,
   "metadata": {},
   "outputs": [],
   "source": [
    "# -- Configurations --\n",
    "\n",
    "# number of classes, change this as you go\n",
    "nc = 2\n",
    "# well-formed, change this as you go\n",
    "wf = False\n",
    "\n",
    "# set this based on your system\n",
    "num_procs = 6\n",
    "\n",
    "search_tol = 1e-2\n",
    "\n",
    "\n",
    "# -- Vars --\n",
    "q = nc ** 2 - nc\n",
    "sphere = load_qme_sphere(nc, well_formed=wf)\n",
    "\n",
    "folder = None\n",
    "if wf:\n",
    "    folder = \"well_formed\"\n",
    "else:\n",
    "    folder = \"ill_formed\"\n",
    "\n",
    "if os.path.exists(f\"trials/qme/{folder}/k={nc}/a_0_hat.npy\"):\n",
    "    print(\"WARNING - this class has already been run\")"
   ]
  },
  {
   "cell_type": "code",
   "execution_count": 9,
   "metadata": {},
   "outputs": [],
   "source": [
    "QUEUE_IN = mp.Queue()\n",
    "QUEUE_OUT = mp.Queue()\n",
    "\n",
    "\n",
    "def run_trial(sphere, a, B, search_tol, wf):\n",
    "    oracle = Oracle(a, B)\n",
    "    qm = QME(sphere, oracle, search_tol, wf)\n",
    "    a_hat, B_hat = qm.run_qme()\n",
    "    \n",
    "    return a_hat, B_hat\n",
    "\n",
    "\n",
    "def proc_run_trials(self_id, search_tol, sphere, wf):\n",
    "    while True:\n",
    "        data = QUEUE_IN.get(block=True)\n",
    "        if data is None:\n",
    "            QUEUE_IN.put(None) # so other threads can read this and exit out\n",
    "            break # exit\n",
    "            \n",
    "        tid, a, B = data\n",
    "        a_hat, B_hat = run_trial(sphere, a, B, search_tol, wf)\n",
    "        \n",
    "        # put result into queue out\n",
    "        QUEUE_OUT.put((tid, a_hat, B_hat))"
   ]
  },
  {
   "cell_type": "code",
   "execution_count": 10,
   "metadata": {},
   "outputs": [],
   "source": [
    "# start the procs\n",
    "procs = []\n",
    "for i in range(num_procs):\n",
    "    proc = mp.Process(target=proc_run_trials, args=(\n",
    "        i,\n",
    "        search_tol,\n",
    "        sphere,\n",
    "        wf,\n",
    "    ))\n",
    "    proc.start()\n",
    "    procs.append(proc)"
   ]
  },
  {
   "cell_type": "code",
   "execution_count": 11,
   "metadata": {},
   "outputs": [
    {
     "name": "stderr",
     "output_type": "stream",
     "text": [
      "C:\\Users\\Garfield_hant\\AppData\\Roaming\\Python\\Python37\\site-packages\\ipykernel_launcher.py:6: TqdmDeprecationWarning: This function will be removed in tqdm==5.0.0\n",
      "Please use `tqdm.notebook.tqdm` instead of `tqdm.tqdm_notebook`\n",
      "  \n"
     ]
    },
    {
     "data": {
      "application/vnd.jupyter.widget-view+json": {
       "model_id": "9916078c3ade45628206ce40ba54e629",
       "version_major": 2,
       "version_minor": 0
      },
      "text/plain": [
       "  0%|          | 0/300 [00:00<?, ?it/s]"
      ]
     },
     "metadata": {},
     "output_type": "display_data"
    }
   ],
   "source": [
    "# put in work\n",
    "trial_ids = []\n",
    "a_list = []\n",
    "B_list = []\n",
    "\n",
    "for i in tqdm_notebook(range(NUM_TRIALS)):\n",
    "    a, B = load_a_B(nc, i, well_formed=wf)\n",
    "    trial_ids.append(i)\n",
    "    a_list.append(a)\n",
    "    B_list.append(B)\n",
    "    \n",
    "    QUEUE_IN.put((i, a, B))\n",
    "    \n",
    "QUEUE_IN.put(None) # signal end to procs"
   ]
  },
  {
   "cell_type": "code",
   "execution_count": null,
   "metadata": {},
   "outputs": [
    {
     "name": "stderr",
     "output_type": "stream",
     "text": [
      "C:\\Users\\Garfield_hant\\AppData\\Roaming\\Python\\Python37\\site-packages\\ipykernel_launcher.py:11: TqdmDeprecationWarning: This function will be removed in tqdm==5.0.0\n",
      "Please use `tqdm.notebook.tqdm` instead of `tqdm.tqdm_notebook`\n",
      "  # This is added back by InteractiveShellApp.init_path()\n"
     ]
    },
    {
     "data": {
      "application/vnd.jupyter.widget-view+json": {
       "model_id": "274c973014644c4aaa4ba3b1c9fec6e4",
       "version_major": 2,
       "version_minor": 0
      },
      "text/plain": [
       "  0%|          | 0/300 [00:00<?, ?it/s]"
      ]
     },
     "metadata": {},
     "output_type": "display_data"
    }
   ],
   "source": [
    "# use trial_ids_out to map into the original inputs\n",
    "trial_ids_out = []\n",
    "\n",
    "a_hat_list = []\n",
    "B_hat_list = []\n",
    "\n",
    "a_err = []\n",
    "B_err = []\n",
    "\n",
    "# we should get trials many results from QUEUE_OUT\n",
    "for _ in tqdm_notebook(range(NUM_TRIALS)):\n",
    "    tid, a_hat, B_hat = QUEUE_OUT.get(block=True)\n",
    "    \n",
    "    trial_ids_out.append(tid)\n",
    "    \n",
    "    a_hat_list.append(a_hat)\n",
    "    B_hat_list.append(B_hat)\n",
    "    \n",
    "    # compute error\n",
    "    a_err.append( np.linalg.norm(a_hat - a_list[tid]) )\n",
    "    B_err.append( np.linalg.norm(B_hat - B_list[tid], ord='fro') )"
   ]
  },
  {
   "cell_type": "code",
   "execution_count": null,
   "metadata": {},
   "outputs": [],
   "source": [
    "a_err = np.array(a_err)\n",
    "B_err = np.array(B_err)"
   ]
  },
  {
   "cell_type": "code",
   "execution_count": null,
   "metadata": {},
   "outputs": [],
   "source": [
    "# save each trial result\n",
    "for i in range(NUM_TRIALS):\n",
    "    write_qme_trial(\n",
    "        nc,\n",
    "        trial_ids_out[i],\n",
    "        a_hat_list[i],\n",
    "        B_hat_list[i],\n",
    "        well_formed=wf,\n",
    "    )\n",
    "\n",
    "# save the trial summary\n",
    "write_qme_trial_summary(nc, a_err, B_err, well_formed=wf)"
   ]
  },
  {
   "cell_type": "code",
   "execution_count": null,
   "metadata": {},
   "outputs": [],
   "source": []
  },
  {
   "cell_type": "code",
   "execution_count": null,
   "metadata": {},
   "outputs": [],
   "source": [
    "# get the worst_a, worst_B (showing nc=3, wf=True)\n",
    "idx_max = np.argmax(B_err)\n",
    "worst_tid = trial_ids_out[idx_max]\n",
    "worst_a = a_list[worst_tid]\n",
    "worst_B = B_list[worst_tid]"
   ]
  },
  {
   "cell_type": "code",
   "execution_count": null,
   "metadata": {},
   "outputs": [],
   "source": [
    "oracle = Oracle(worst_a, worst_B)\n",
    "# check_i checks for gradient inconsistencies; looks at hidden oracle metric to check as it goes\n",
    "qm = QME(sphere, oracle, search_tol, check_i=True)\n",
    "ahat_worst, Bhat_worst = qm.run_qme()"
   ]
  },
  {
   "cell_type": "code",
   "execution_count": null,
   "metadata": {},
   "outputs": [],
   "source": [
    "worst_a"
   ]
  },
  {
   "cell_type": "code",
   "execution_count": null,
   "metadata": {},
   "outputs": [],
   "source": [
    "ahat_worst"
   ]
  },
  {
   "cell_type": "code",
   "execution_count": null,
   "metadata": {},
   "outputs": [],
   "source": [
    "worst_B"
   ]
  },
  {
   "cell_type": "code",
   "execution_count": null,
   "metadata": {},
   "outputs": [],
   "source": [
    "Bhat_worst"
   ]
  },
  {
   "cell_type": "code",
   "execution_count": null,
   "metadata": {},
   "outputs": [],
   "source": [
    "# no inconsistencies! this means every gradient was within 1e-3 cosine similarity to the true gradient\n",
    "qm.inconsistencies"
   ]
  },
  {
   "cell_type": "code",
   "execution_count": null,
   "metadata": {},
   "outputs": [],
   "source": [
    "# this again verifies that the true and calculated gradients were very close\n",
    "\n",
    "print(\"f_z dist:\", spatial.distance.cosine(qm.qmesc.f_z, qm.f_z_opt))\n",
    "print(\"f_neg0 dist:\", spatial.distance.cosine(qm.qmesc.f_neg0, qm.f_neg0_opt))\n",
    "\n",
    "for idx in range(0, q):\n",
    "    print(f\"fs_{idx} dist:\", spatial.distance.cosine(qm.qmesc.fs[idx], qm.fs_opt[idx]))"
   ]
  },
  {
   "cell_type": "code",
   "execution_count": null,
   "metadata": {},
   "outputs": [],
   "source": [
    "# try running the algo with the true gradients (normalized)\n",
    "f_z_opt = normalize(qm.f_z_opt)\n",
    "f_neg0_opt = normalize(qm.f_neg0_opt)\n",
    "fs_opt = [normalize(i) for i in qm.fs_opt]\n",
    "# QMESC = QME Slope Calculator, calculates a, B given the slope estimates\n",
    "# turn off well_formed because we want to see the algorithm run directly \n",
    "# without gradient clipping (see qme.py/clip_v for an explanation)\n",
    "qmesc_opt = QMESC(sphere, 5e-3, f_z_opt, f_neg0_opt, fs_opt, well_formed=False)\n",
    "ahat_worst_opt, Bhat_worst_opt = qmesc_opt.compute_a_b()"
   ]
  },
  {
   "cell_type": "code",
   "execution_count": null,
   "metadata": {},
   "outputs": [],
   "source": [
    "worst_a"
   ]
  },
  {
   "cell_type": "code",
   "execution_count": null,
   "metadata": {},
   "outputs": [],
   "source": [
    "# accurate!\n",
    "ahat_worst_opt"
   ]
  },
  {
   "cell_type": "code",
   "execution_count": null,
   "metadata": {},
   "outputs": [],
   "source": [
    "worst_B"
   ]
  },
  {
   "cell_type": "code",
   "execution_count": null,
   "metadata": {},
   "outputs": [],
   "source": [
    "# accurate!\n",
    "Bhat_worst_opt"
   ]
  },
  {
   "cell_type": "code",
   "execution_count": null,
   "metadata": {},
   "outputs": [],
   "source": [
    "# original algo\n",
    "print(\"a squared error:\", np.linalg.norm(ahat_worst - worst_a))\n",
    "print(\"B squared error:\", np.linalg.norm(Bhat_worst - worst_B, ord='fro'))"
   ]
  },
  {
   "cell_type": "code",
   "execution_count": null,
   "metadata": {},
   "outputs": [],
   "source": [
    "# algo with true grads\n",
    "print(\"a squared error:\", np.linalg.norm(ahat_worst_opt - worst_a))\n",
    "print(\"B squared error:\", np.linalg.norm(Bhat_worst_opt - worst_B, ord='fro'))"
   ]
  },
  {
   "cell_type": "code",
   "execution_count": null,
   "metadata": {},
   "outputs": [],
   "source": []
  },
  {
   "cell_type": "markdown",
   "metadata": {},
   "source": [
    "As we can see, even on the worst trial the optimal gradients were extremely close to the measured gradients. However, using the measured gradients still resulted in large error. **Thus, the error can be entirely attributed to the fact that fractions are not robust to error.** We know it is not code error because we use the same algorithm on the true gradients and get the right answer. Evidently, this bad output CAN happen for some random inputs $(a, B)$. The *well_formed* assumption mitigates this error (discussed in the paper, code - see *common.py/check_a_B_sphere_satisfy_conditions*, and in *explore_fractional_error.ipynb*)\n",
    "\n",
    "Also, if you look at the plot for the error (below) you will see that it is severely right-tailed."
   ]
  },
  {
   "cell_type": "code",
   "execution_count": null,
   "metadata": {},
   "outputs": [],
   "source": [
    "plt.hist(B_err)"
   ]
  },
  {
   "cell_type": "code",
   "execution_count": null,
   "metadata": {},
   "outputs": [],
   "source": []
  }
 ],
 "metadata": {
  "kernelspec": {
   "display_name": "Python 3",
   "language": "python",
   "name": "python3"
  },
  "language_info": {
   "codemirror_mode": {
    "name": "ipython",
    "version": 3
   },
   "file_extension": ".py",
   "mimetype": "text/x-python",
   "name": "python",
   "nbconvert_exporter": "python",
   "pygments_lexer": "ipython3",
   "version": "3.7.3"
  }
 },
 "nbformat": 4,
 "nbformat_minor": 2
}
