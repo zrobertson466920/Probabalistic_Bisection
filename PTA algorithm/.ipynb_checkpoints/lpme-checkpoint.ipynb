{
 "cells": [
  {
   "cell_type": "markdown",
   "metadata": {},
   "source": [
    "This code demonstrates the LPME algorithm. LPME assumes the hidden (cost) metric $s$ can be expressed as:\n",
    "$$ s = <a, r> + c $$.\n",
    "\n",
    "It uses only oracle comparisons to recover $a$. It works using a binary-search like algorithm on each coordinate."
   ]
  },
  {
   "cell_type": "code",
   "execution_count": 1,
   "metadata": {},
   "outputs": [],
   "source": [
    "%load_ext autoreload\n",
    "\n",
    "%autoreload 2"
   ]
  },
  {
   "cell_type": "code",
   "execution_count": 3,
   "metadata": {},
   "outputs": [],
   "source": [
    "import numpy as np\n",
    "from scipy import spatial\n",
    "import matplotlib.pyplot as plt\n",
    "\n",
    "import sys\n",
    "# sys.path.append('../')\n",
    "from common import Sphere, Oracle, normalize\n",
    "from lpme import LPME, compute_vector"
   ]
  },
  {
   "cell_type": "code",
   "execution_count": 4,
   "metadata": {},
   "outputs": [],
   "source": [
    "np.random.seed(7)\n",
    "nc = 5 # number of classes\n",
    "r = np.random.uniform(0, 10) # sphere radius\n",
    "search_tol = 1e-2 # search tolerance\n",
    "\n",
    "q = nc**2 - nc\n"
   ]
  },
  {
   "cell_type": "code",
   "execution_count": 5,
   "metadata": {},
   "outputs": [],
   "source": [
    "# search space is a Sphere\n",
    "sphere = Sphere(np.random.randn(q), r, q)\n",
    "\n",
    "# linear performance metric\n",
    "a = np.random.randn(q)\n",
    "a = normalize(a)\n",
    "\n",
    "# B = 0 makes oracle linear\n",
    "B = np.matrix(np.zeros((q, q)))"
   ]
  },
  {
   "cell_type": "code",
   "execution_count": 6,
   "metadata": {},
   "outputs": [],
   "source": [
    "oracle = Oracle(a, B)"
   ]
  },
  {
   "cell_type": "code",
   "execution_count": 7,
   "metadata": {},
   "outputs": [],
   "source": [
    "lpm = LPME(sphere, oracle, search_tol)\n",
    "ahat = lpm.run_lpme(0.)"
   ]
  },
  {
   "cell_type": "code",
   "execution_count": 16,
   "metadata": {},
   "outputs": [],
   "source": [
    "lpm = LPME(sphere, oracle, search_tol)\n",
    "ahat = lpm.run_lpme(0.1)"
   ]
  },
  {
   "cell_type": "code",
   "execution_count": 13,
   "metadata": {},
   "outputs": [
    {
     "data": {
      "text/plain": [
       "array([ 0.01250023, -0.19585473,  0.14049531,  0.20815772, -0.25391651,\n",
       "       -0.02774202, -0.41198427, -0.02981075, -0.39809574, -0.06708321,\n",
       "        0.08438654,  0.10614552,  0.12328695, -0.31575798, -0.06444732,\n",
       "       -0.30606313,  0.23728292, -0.22163813, -0.12149291, -0.38505428])"
      ]
     },
     "execution_count": 13,
     "metadata": {},
     "output_type": "execute_result"
    }
   ],
   "source": [
    "a"
   ]
  },
  {
   "cell_type": "code",
   "execution_count": 17,
   "metadata": {},
   "outputs": [
    {
     "data": {
      "text/plain": [
       "array([ 1.25066912e-02, -1.95955936e-01,  1.40567869e-01,  2.08265255e-01,\n",
       "       -2.54047672e-01, -2.77563516e-02, -4.12181674e-01,  9.90319648e-05,\n",
       "       -3.98305081e-01, -6.71185097e-02,  8.44309344e-02,  1.06201339e-01,\n",
       "        1.23351795e-01, -3.15952602e-01, -6.44670140e-02, -3.06156617e-01,\n",
       "        2.37355409e-01, -2.21706138e-01, -1.21529985e-01, -3.85171745e-01])"
      ]
     },
     "execution_count": 17,
     "metadata": {},
     "output_type": "execute_result"
    }
   ],
   "source": [
    "ahat"
   ]
  },
  {
   "cell_type": "code",
   "execution_count": 18,
   "metadata": {},
   "outputs": [
    {
     "name": "stdout",
     "output_type": "stream",
     "text": [
      "error: 0.02991329321165937\n"
     ]
    }
   ],
   "source": [
    "print(\"error:\", np.linalg.norm(ahat - a))"
   ]
  }
 ],
 "metadata": {
  "kernelspec": {
   "display_name": "Python 3",
   "language": "python",
   "name": "python3"
  },
  "language_info": {
   "codemirror_mode": {
    "name": "ipython",
    "version": 3
   },
   "file_extension": ".py",
   "mimetype": "text/x-python",
   "name": "python",
   "nbconvert_exporter": "python",
   "pygments_lexer": "ipython3",
   "version": "3.7.3"
  }
 },
 "nbformat": 4,
 "nbformat_minor": 2
}
