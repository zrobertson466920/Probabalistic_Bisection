{
 "cells": [
  {
   "cell_type": "markdown",
   "metadata": {},
   "source": [
    "This code runs the FPME algorithm on a randomly generated $(a, B, \\lambda, T)$. FPME uses QME and LPME as subroutines and consequently achieves its predictions using just oracle comparisons.\n",
    "\n",
    "Note that the FPME algorithm is even more susceptible to error than QPME because it has several $B_{ij}$ matrices, the number of which grow quadratically with the number of classes. We run trials and investigate sources of error, similar to *qme.ipynb*."
   ]
  },
  {
   "cell_type": "code",
   "execution_count": 1,
   "metadata": {},
   "outputs": [],
   "source": [
    "%load_ext autoreload\n",
    "%autoreload 2"
   ]
  },
  {
   "cell_type": "code",
   "execution_count": 2,
   "metadata": {},
   "outputs": [],
   "source": [
    "import numpy as np\n",
    "import matplotlib.pyplot as plt\n",
    "from tqdm import tqdm_notebook\n",
    "import pickle\n",
    "import multiprocessing as mp\n",
    "import os\n",
    "\n",
    "import sys\n",
    "sys.path.append('../')\n",
    "from common import Sphere, normalize\n",
    "from fpme_utils import create_a_B_lamb_T, compute_B_err\n",
    "from fpme import FPME, FairOracle\n",
    "from trials import NUM_TRIALS, load_fpme_sphere, load_a_B_lamb_T, write_fpme_trial, write_fpme_trial_summary"
   ]
  },
  {
   "cell_type": "markdown",
   "metadata": {},
   "source": [
    "# Example"
   ]
  },
  {
   "cell_type": "code",
   "execution_count": 3,
   "metadata": {},
   "outputs": [],
   "source": [
    "np.random.seed(7)\n",
    "\n",
    "ng = 3 # number of groups\n",
    "nc = 3 # number of classes\n",
    "search_tol = 1e-2 # search tolerance, the smaller the more accurate\n",
    "\n",
    "q = nc ** 2 - nc # number of off-diagonal elements"
   ]
  },
  {
   "cell_type": "code",
   "execution_count": 4,
   "metadata": {},
   "outputs": [],
   "source": [
    "sphere = Sphere(np.random.randn(q), 1.0, q)"
   ]
  },
  {
   "cell_type": "code",
   "execution_count": 5,
   "metadata": {},
   "outputs": [],
   "source": [
    "a, B, lamb, T = create_a_B_lamb_T(sphere, ng, nc, q, well_formed=True)"
   ]
  },
  {
   "cell_type": "code",
   "execution_count": 6,
   "metadata": {},
   "outputs": [
    {
     "data": {
      "text/plain": [
       "array([0.56421462, 0.74170966, 0.11763843, 0.03916839, 0.05216882,\n",
       "       0.33679979])"
      ]
     },
     "execution_count": 6,
     "metadata": {},
     "output_type": "execute_result"
    }
   ],
   "source": [
    "# linear performance metric\n",
    "a"
   ]
  },
  {
   "cell_type": "code",
   "execution_count": 7,
   "metadata": {
    "scrolled": true
   },
   "outputs": [
    {
     "data": {
      "text/plain": [
       "matrix([[ 0.03305597, -0.01456106, -0.01000368,  0.04872265,  0.03698551,\n",
       "          0.02220856],\n",
       "        [-0.01456106,  0.17577733, -0.09262995, -0.17109535, -0.28250276,\n",
       "         -0.10267277],\n",
       "        [-0.01000368, -0.09262995,  0.14901064,  0.10878091,  0.09927939,\n",
       "          0.03541693],\n",
       "        [ 0.04872265, -0.17109535,  0.10878091,  0.3362072 ,  0.34826242,\n",
       "          0.07024184],\n",
       "        [ 0.03698551, -0.28250276,  0.09927939,  0.34826242,  0.58066695,\n",
       "          0.1473379 ],\n",
       "        [ 0.02220856, -0.10267277,  0.03541693,  0.07024184,  0.1473379 ,\n",
       "          0.11550174]])"
      ]
     },
     "execution_count": 7,
     "metadata": {},
     "output_type": "execute_result"
    }
   ],
   "source": [
    "# quadratic group discrepancy weights\n",
    "# try looking at B[0][2] and B[1][2]. B is symmetric, so B[i][j] = B[j][i]. \n",
    "# every B[i][j] is positive semi-definite\n",
    "B[0][1]"
   ]
  },
  {
   "cell_type": "code",
   "execution_count": 8,
   "metadata": {},
   "outputs": [
    {
     "data": {
      "text/plain": [
       "0.3271087780626641"
      ]
     },
     "execution_count": 8,
     "metadata": {},
     "output_type": "execute_result"
    }
   ],
   "source": [
    "# trade-off between fairness (lamb) and performance (1. - lamb)\n",
    "lamb"
   ]
  },
  {
   "cell_type": "code",
   "execution_count": 9,
   "metadata": {},
   "outputs": [
    {
     "data": {
      "text/plain": [
       "array([[0.23703881, 0.23703881, 0.54231157, 0.54231157, 0.28286822,\n",
       "        0.28286822],\n",
       "       [0.57689909, 0.57689909, 0.13922037, 0.13922037, 0.32536577,\n",
       "        0.32536577],\n",
       "       [0.1860621 , 0.1860621 , 0.31846806, 0.31846806, 0.39176601,\n",
       "        0.39176601]])"
      ]
     },
     "execution_count": 9,
     "metadata": {},
     "output_type": "execute_result"
    }
   ],
   "source": [
    "# a list of `ng` vectors, each q-dimensional\n",
    "# T[i] represents P(G = g | Y = i) the g-th group\n",
    "# in matrix form, row i means Y = i. Every element in a row \n",
    "# would have the same value of P(G = g | Y = i).\n",
    "# Because we take all off-diagonal elements of the matrix, each row\n",
    "# contributes (nc - 1) repetitions of the value P(G = g | Y = i)\n",
    "# this is why you see T[0][0] = T[0][1], T[0][2] = T[0][3], ...\n",
    "T"
   ]
  },
  {
   "cell_type": "code",
   "execution_count": 10,
   "metadata": {
    "scrolled": true
   },
   "outputs": [
    {
     "data": {
      "text/plain": [
       "array([1., 1., 1., 1., 1., 1.])"
      ]
     },
     "execution_count": 10,
     "metadata": {},
     "output_type": "execute_result"
    }
   ],
   "source": [
    "# \\sum_i P(G = g | Y = i) = 1.0 (obviously)\n",
    "# so the sum across axis 0 must be 1 in all `q` dimensions\n",
    "np.sum(T, axis=0)"
   ]
  },
  {
   "cell_type": "code",
   "execution_count": 11,
   "metadata": {},
   "outputs": [],
   "source": [
    "fair_oracle = FairOracle(a, B, lamb, T)"
   ]
  },
  {
   "cell_type": "code",
   "execution_count": 12,
   "metadata": {},
   "outputs": [],
   "source": [
    "fpm = FPME(sphere, fair_oracle, T, nc, q, ng, search_tol)\n",
    "a_hat, B_hat, lamb_hat = fpm.run_fpme(alpha=0.1)"
   ]
  },
  {
   "cell_type": "code",
   "execution_count": 13,
   "metadata": {},
   "outputs": [
    {
     "name": "stdout",
     "output_type": "stream",
     "text": [
      "|| a_hat - a || error: 3.591885657001696e-15\n",
      "sum of|| B_hat - B ||_F error: 2.7769333123968294\n",
      "|| lamb_hat - lamb || error: 0.6728912219372274\n"
     ]
    }
   ],
   "source": [
    "print(\"|| a_hat - a || error:\", np.square(a_hat - a).sum())\n",
    "print(\"sum of|| B_hat - B ||_F error:\", compute_B_err(B_hat, B))\n",
    "print(\"|| lamb_hat - lamb || error:\", abs(lamb_hat - lamb))"
   ]
  },
  {
   "cell_type": "code",
   "execution_count": null,
   "metadata": {},
   "outputs": [],
   "source": []
  },
  {
   "cell_type": "markdown",
   "metadata": {},
   "source": [
    "# Trials\n",
    "\n",
    "Make sure to run all choices of $2 \\leq ng \\leq 5$ and $2 \\leq nc \\leq 5 $. Alternatively, you can run *fpme_trials_runner.py*. Even with 6-core multiprocessing, this can take over an hour."
   ]
  },
  {
   "cell_type": "code",
   "execution_count": 26,
   "metadata": {},
   "outputs": [],
   "source": [
    "ng = 2 # number of groups, change this as you go\n",
    "nc = 2 # number of classes, change this as you go\n",
    "q = nc ** 2 - nc\n",
    "search_tol = 1e-2\n",
    "sphere = load_fpme_sphere(ng, nc)\n",
    "\n",
    "# set this based on your system\n",
    "num_procs = 6\n",
    "\n",
    "if os.path.exists(f\"trials/fpme/m={ng},k={nc}/a_1_hat.npy\"):\n",
    "    print(\"WARNING - this class and group have already been run\")"
   ]
  },
  {
   "cell_type": "code",
   "execution_count": 27,
   "metadata": {},
   "outputs": [],
   "source": [
    "QUEUE_IN = mp.Queue()\n",
    "QUEUE_OUT = mp.Queue()\n",
    "\n",
    "\n",
    "def run_trial(ng, nc, q, sphere, a, B, lamb, T):\n",
    "    fair_oracle = FairOracle(a, B, lamb, T)\n",
    "    fpm = FPME(sphere, fair_oracle, T, nc, q, ng, search_tol)\n",
    "    a_hat, B_hat, lamb_hat = fpm.run_fpme()\n",
    "    return (a_hat, B_hat, lamb_hat)\n",
    "    \n",
    "\n",
    "def proc_run_trials(self_id, ng, nc, q, sphere):\n",
    "    while True:\n",
    "        data = QUEUE_IN.get(block=True)\n",
    "        if data is None:\n",
    "            QUEUE_IN.put(None) # so other threads can read this and exit out\n",
    "            break # exit\n",
    "            \n",
    "        tid, a, B, lamb, T = data\n",
    "        a_hat, B_hat, lamb_hat = run_trial(ng, nc, q, sphere, a, B, lamb, T)\n",
    "        \n",
    "        # put result into queue out\n",
    "        QUEUE_OUT.put((tid, a_hat, B_hat, lamb_hat))"
   ]
  },
  {
   "cell_type": "code",
   "execution_count": 28,
   "metadata": {},
   "outputs": [],
   "source": [
    "# start the procs\n",
    "procs = []\n",
    "for i in range(num_procs):\n",
    "    proc = mp.Process(target=proc_run_trials, args=(\n",
    "        i,\n",
    "        ng,\n",
    "        nc,\n",
    "        q,\n",
    "        sphere,\n",
    "    ))\n",
    "    proc.start()\n",
    "    procs.append(proc)"
   ]
  },
  {
   "cell_type": "code",
   "execution_count": 29,
   "metadata": {},
   "outputs": [
    {
     "name": "stderr",
     "output_type": "stream",
     "text": [
      "C:\\Users\\Garfield_hant\\AppData\\Roaming\\Python\\Python37\\site-packages\\ipykernel_launcher.py:7: TqdmDeprecationWarning: This function will be removed in tqdm==5.0.0\n",
      "Please use `tqdm.notebook.tqdm` instead of `tqdm.tqdm_notebook`\n",
      "  import sys\n"
     ]
    },
    {
     "data": {
      "application/vnd.jupyter.widget-view+json": {
       "model_id": "9c5f4c554bf34f9f83c8211e8d86d750",
       "version_major": 2,
       "version_minor": 0
      },
      "text/plain": [
       "  0%|          | 0/300 [00:00<?, ?it/s]"
      ]
     },
     "metadata": {},
     "output_type": "display_data"
    }
   ],
   "source": [
    "# put in work\n",
    "trial_ids = []\n",
    "a_list = []\n",
    "B_list = []\n",
    "lamb_list = []\n",
    "T_list = []\n",
    "for i in tqdm_notebook(range(NUM_TRIALS)):\n",
    "    a, B, lamb, T = load_a_B_lamb_T(ng, nc, i)\n",
    "    trial_ids.append(i)\n",
    "    a_list.append(a)\n",
    "    B_list.append(B)\n",
    "    lamb_list.append(lamb)\n",
    "    T_list.append(T)\n",
    "    \n",
    "    QUEUE_IN.put((i, a, B, lamb, T))\n",
    "    \n",
    "QUEUE_IN.put(None) # signal end to procs"
   ]
  },
  {
   "cell_type": "code",
   "execution_count": null,
   "metadata": {},
   "outputs": [
    {
     "name": "stderr",
     "output_type": "stream",
     "text": [
      "C:\\Users\\Garfield_hant\\AppData\\Roaming\\Python\\Python37\\site-packages\\ipykernel_launcher.py:13: TqdmDeprecationWarning: This function will be removed in tqdm==5.0.0\n",
      "Please use `tqdm.notebook.tqdm` instead of `tqdm.tqdm_notebook`\n",
      "  del sys.path[0]\n"
     ]
    },
    {
     "data": {
      "application/vnd.jupyter.widget-view+json": {
       "model_id": "061143cf3cad4c03ba49532800c0e6c0",
       "version_major": 2,
       "version_minor": 0
      },
      "text/plain": [
       "  0%|          | 0/300 [00:00<?, ?it/s]"
      ]
     },
     "metadata": {},
     "output_type": "display_data"
    }
   ],
   "source": [
    "# use trial_ids_out to map into the original inputs\n",
    "trial_ids_out = []\n",
    "\n",
    "a_hat_list = []\n",
    "B_hat_list = []\n",
    "lamb_hat_list = []\n",
    "\n",
    "a_err = []\n",
    "B_err = []\n",
    "lamb_err = []\n",
    "\n",
    "# we should get trials many results from QUEUE_OUT\n",
    "for _ in tqdm_notebook(range(NUM_TRIALS)):\n",
    "    tid, a_hat, B_hat, lamb_hat = QUEUE_OUT.get(block=True)\n",
    "    \n",
    "    \n",
    "    trial_ids_out.append(tid)\n",
    "    \n",
    "    a_hat_list.append(a_hat)\n",
    "    B_hat_list.append(B_hat)\n",
    "    lamb_hat_list.append(lamb_hat)\n",
    "    \n",
    "    # compute error\n",
    "    a_err.append( np.linalg.norm(a_hat - a_list[tid]) )\n",
    "    B_err.append( compute_B_err(B_hat, B_list[tid]) )\n",
    "    lamb_err.append( abs(lamb_hat - lamb_list[tid]) )"
   ]
  },
  {
   "cell_type": "code",
   "execution_count": null,
   "metadata": {},
   "outputs": [],
   "source": [
    "a_err = np.array(a_err)\n",
    "B_err = np.array(B_err)\n",
    "lamb_err = np.array(lamb_err)\n",
    "\n",
    "# save each trial result\n",
    "for i in range(NUM_TRIALS):\n",
    "    write_fpme_trial(\n",
    "        ng,\n",
    "        nc,\n",
    "        trial_ids_out[i],\n",
    "        a_hat_list[i],\n",
    "        B_hat_list[i],\n",
    "        lamb_hat_list[i],\n",
    "    )\n",
    "\n",
    "# save the trial summary\n",
    "write_fpme_trial_summary(ng, nc, a_err, B_err, lamb_err)"
   ]
  },
  {
   "cell_type": "code",
   "execution_count": null,
   "metadata": {},
   "outputs": [],
   "source": []
  },
  {
   "cell_type": "code",
   "execution_count": null,
   "metadata": {},
   "outputs": [],
   "source": [
    "# get the worst_a, worst_B, worst_lamb, worst_T (showing ng=3, nc=3)\n",
    "idx_max = np.argmax(B_err)\n",
    "worst_wid = trial_ids_out[idx_max]\n",
    "worst_a = a_list[worst_wid]\n",
    "worst_B = B_list[worst_wid]\n",
    "worst_lamb = lamb_list[worst_wid]\n",
    "worst_T = T_list[worst_wid]"
   ]
  },
  {
   "cell_type": "code",
   "execution_count": null,
   "metadata": {},
   "outputs": [],
   "source": [
    "fair_oracle = FairOracle(worst_a, worst_B, worst_lamb, worst_T)\n",
    "# check_i checks for gradient inconsistencies; looks at hidden oracle metric to check as it goes\n",
    "fpm = FPME(sphere, fair_oracle, worst_T, nc, q, ng, search_tol, check_i=True)\n",
    "a_hat_worst, B_hat_worst, lamb_hat_worst = fpm.run_fpme()"
   ]
  },
  {
   "cell_type": "code",
   "execution_count": null,
   "metadata": {},
   "outputs": [],
   "source": [
    "worst_a"
   ]
  },
  {
   "cell_type": "code",
   "execution_count": null,
   "metadata": {},
   "outputs": [],
   "source": [
    "a_hat_worst"
   ]
  },
  {
   "cell_type": "code",
   "execution_count": null,
   "metadata": {},
   "outputs": [],
   "source": [
    "worst_B[0][1]"
   ]
  },
  {
   "cell_type": "code",
   "execution_count": null,
   "metadata": {},
   "outputs": [],
   "source": [
    "# pretty bad\n",
    "B_hat_worst[0][1]"
   ]
  },
  {
   "cell_type": "code",
   "execution_count": null,
   "metadata": {},
   "outputs": [],
   "source": [
    "print(\"a squared error\", np.linalg.norm(a_hat_worst - worst_a))\n",
    "print(\"B total squared error\", compute_B_err(B_hat_worst, worst_B))\n",
    "print(\"lambda amount off\", abs(lamb_hat_worst - worst_lamb))"
   ]
  },
  {
   "cell_type": "code",
   "execution_count": null,
   "metadata": {},
   "outputs": [],
   "source": [
    "# no inconsistencies, this means the error can entirely be attributed to fractions\n",
    "fpm.inconsistencies "
   ]
  },
  {
   "cell_type": "code",
   "execution_count": null,
   "metadata": {},
   "outputs": [],
   "source": [
    "# to prove the assertion that this is just due to fractions\n",
    "# we will try using the optimal QME result instead of the estimated\n",
    "# see qme.ipynb for an example of how even cosine similarities of 1e-6 on \n",
    "# gradient estimations can still lead to significant errors\n",
    "fpm = FPME(sphere, fair_oracle, worst_T, nc, q, ng, search_tol)\n",
    "a_hat_worst_opt, B_hat_worst_opt, lamb_hat_worst_opt = fpm.run_fpme(solve_opt_qme=True)"
   ]
  },
  {
   "cell_type": "code",
   "execution_count": null,
   "metadata": {},
   "outputs": [],
   "source": [
    "# note this can still have some error because a is still estimated, which can also affected \\lambda\n",
    "print(\"a squared error\", np.linalg.norm(a_hat_worst - worst_a))\n",
    "# B error has gone to 0\n",
    "print(\"B total squared error\", compute_B_err(B_hat_worst_opt, worst_B))\n",
    "print(\"lambda amount off\", abs(lamb_hat_worst_opt - worst_lamb))"
   ]
  },
  {
   "cell_type": "code",
   "execution_count": null,
   "metadata": {},
   "outputs": [],
   "source": []
  },
  {
   "cell_type": "markdown",
   "metadata": {},
   "source": [
    "As we can see, even on the worst trial there were no inconsistencies (optimal gradients for all $B$ were extremely close to the measured gradients). However, using the measured gradients still resulted in large error. We can see that using the true gradients (using flag *solve_opt_qme=True*) makes the error disappear. **Thus, the error can be entirely attributed to QME. In *qme.ipynb* we show that error in QME can be entirely attributed to the fact that fractions are not robust to error.** We know it is not code error because we use the same algorithm on the true gradients and get the right answer. Evidently, this bad output CAN happen for some random inputs $(a, B, \\lambda, T)$. Furthermore, if you look at the plot for the error (below) you will see that it is severely right-tailed."
   ]
  },
  {
   "cell_type": "code",
   "execution_count": null,
   "metadata": {
    "scrolled": true
   },
   "outputs": [],
   "source": [
    "plt.hist(B_err)"
   ]
  },
  {
   "cell_type": "code",
   "execution_count": null,
   "metadata": {},
   "outputs": [],
   "source": [
    "plt.hist(lamb_err)"
   ]
  },
  {
   "cell_type": "code",
   "execution_count": null,
   "metadata": {},
   "outputs": [],
   "source": []
  }
 ],
 "metadata": {
  "kernelspec": {
   "display_name": "Python 3",
   "language": "python",
   "name": "python3"
  },
  "language_info": {
   "codemirror_mode": {
    "name": "ipython",
    "version": 3
   },
   "file_extension": ".py",
   "mimetype": "text/x-python",
   "name": "python",
   "nbconvert_exporter": "python",
   "pygments_lexer": "ipython3",
   "version": "3.7.3"
  }
 },
 "nbformat": 4,
 "nbformat_minor": 2
}
